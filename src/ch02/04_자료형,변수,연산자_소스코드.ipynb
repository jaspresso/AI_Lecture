{
  "cells": [
    {
      "cell_type": "markdown",
      "metadata": {
        "id": "view-in-github",
        "colab_type": "text"
      },
      "source": [
        "<a href=\"https://colab.research.google.com/github/jaspresso/AI_Lecture/blob/main/04_%EC%9E%90%EB%A3%8C%ED%98%95%2C%EB%B3%80%EC%88%98%2C%EC%97%B0%EC%82%B0%EC%9E%90_%EC%86%8C%EC%8A%A4%EC%BD%94%EB%93%9C.ipynb\" target=\"_parent\"><img src=\"https://colab.research.google.com/assets/colab-badge.svg\" alt=\"Open In Colab\"/></a>"
      ]
    },
    {
      "cell_type": "markdown",
      "metadata": {
        "id": "BZWk9Sw0OOE9"
      },
      "source": [
        "# 자료형이란?\n",
        "파이썬은 Java나 C언어와는 달리 변수에 새로운 값을 넣으면 값에 따라 자동으로 변수의 자료형이 결정된다. 이를 동적 타이핑(dynamic typing)이라 한다. Java나 C같은 언어는 변수에 자료형을 지정하는 정적 타이핑(static typing) 언어 이다.\n",
        "파이썬의 변수도 다른 언어처럼 데이터를 저장하는 이름을 말한다. 변수는 말 그대로 변할 수 있는 수라는 의미로 같은이름의 변수에 아래 예제처럼 다른 값들로 변할 수 있다.\n"
      ]
    },
    {
      "cell_type": "markdown",
      "source": [
        "## 1. 숫자형"
      ],
      "metadata": {
        "id": "ZaRgO7dxqL65"
      }
    },
    {
      "cell_type": "code",
      "source": [
        "123\n"
      ],
      "metadata": {
        "colab": {
          "base_uri": "https://localhost:8080/"
        },
        "id": "D3FpOC2Bl0zX",
        "outputId": "bb9677bc-9e5f-461a-f2f7-1062636d85c0"
      },
      "execution_count": null,
      "outputs": [
        {
          "output_type": "execute_result",
          "data": {
            "text/plain": [
              "123"
            ]
          },
          "metadata": {},
          "execution_count": 8
        }
      ]
    },
    {
      "cell_type": "code",
      "source": [
        "a = 0x7B\n",
        "print(a)"
      ],
      "metadata": {
        "colab": {
          "base_uri": "https://localhost:8080/"
        },
        "id": "gM-Iu7I0qXhB",
        "outputId": "6eb71a9a-2ffd-4036-bb2a-1259d38294d0"
      },
      "execution_count": null,
      "outputs": [
        {
          "output_type": "stream",
          "name": "stdout",
          "text": [
            "123\n"
          ]
        }
      ]
    },
    {
      "cell_type": "code",
      "source": [
        "type(a) # 해당변수나 값의 자료형을 구할 때 type()"
      ],
      "metadata": {
        "colab": {
          "base_uri": "https://localhost:8080/"
        },
        "id": "Z35C79qcS9Vj",
        "outputId": "51c870e2-71ef-47df-9b03-118a67664711"
      },
      "execution_count": null,
      "outputs": [
        {
          "output_type": "execute_result",
          "data": {
            "text/plain": [
              "int"
            ]
          },
          "metadata": {},
          "execution_count": 5
        }
      ]
    },
    {
      "cell_type": "code",
      "source": [
        "type(12.5)"
      ],
      "metadata": {
        "colab": {
          "base_uri": "https://localhost:8080/"
        },
        "id": "-Kv4ZGb2TWxP",
        "outputId": "d29e238d-1e51-4c32-ec0b-090cbd480724"
      },
      "execution_count": null,
      "outputs": [
        {
          "output_type": "execute_result",
          "data": {
            "text/plain": [
              "float"
            ]
          },
          "metadata": {},
          "execution_count": 6
        }
      ]
    },
    {
      "cell_type": "code",
      "source": [
        "type('12.5')"
      ],
      "metadata": {
        "colab": {
          "base_uri": "https://localhost:8080/"
        },
        "id": "kFwPglmSTfEa",
        "outputId": "855c7ec6-9078-4353-f73d-00ff76bc1783"
      },
      "execution_count": null,
      "outputs": [
        {
          "output_type": "execute_result",
          "data": {
            "text/plain": [
              "str"
            ]
          },
          "metadata": {},
          "execution_count": 7
        }
      ]
    },
    {
      "cell_type": "markdown",
      "source": [
        "## 2. 문자형\n"
      ],
      "metadata": {
        "id": "TVfR9xVXqzL-"
      }
    },
    {
      "cell_type": "code",
      "source": [
        "\"Hello\""
      ],
      "metadata": {
        "colab": {
          "base_uri": "https://localhost:8080/",
          "height": 35
        },
        "id": "xa9Jegpqmrjj",
        "outputId": "4ab63382-f9ed-4bb5-deb0-daf7fa72fa4a"
      },
      "execution_count": null,
      "outputs": [
        {
          "output_type": "execute_result",
          "data": {
            "text/plain": [
              "'Hello'"
            ],
            "application/vnd.google.colaboratory.intrinsic+json": {
              "type": "string"
            }
          },
          "metadata": {},
          "execution_count": 14
        }
      ]
    },
    {
      "cell_type": "code",
      "source": [
        "s = \"Python\"\n",
        "# 인덱싱\n",
        "print(s[0])  # 'P'"
      ],
      "metadata": {
        "colab": {
          "base_uri": "https://localhost:8080/"
        },
        "id": "y4Z_DkCjrAfX",
        "outputId": "bd6b845b-3e9c-47b7-bbaf-33a6ef3a3dd0"
      },
      "execution_count": null,
      "outputs": [
        {
          "output_type": "stream",
          "name": "stdout",
          "text": [
            "P\n"
          ]
        }
      ]
    },
    {
      "cell_type": "code",
      "source": [
        "# 슬라이싱\n",
        "print(s[1:4])  # 'yth'"
      ],
      "metadata": {
        "colab": {
          "base_uri": "https://localhost:8080/"
        },
        "id": "MMZ48SR6rMww",
        "outputId": "9a648a72-3c5b-4d6f-8413-34ca6bcc4314"
      },
      "execution_count": null,
      "outputs": [
        {
          "output_type": "stream",
          "name": "stdout",
          "text": [
            "yth\n"
          ]
        }
      ]
    },
    {
      "cell_type": "code",
      "source": [
        "print(\"Hello\" + \" \" + \"World\")  # 'Hello World'"
      ],
      "metadata": {
        "colab": {
          "base_uri": "https://localhost:8080/"
        },
        "id": "_wZO4DwDrZde",
        "outputId": "5c1b2a9f-c36e-402d-f811-29bf7aaef22d"
      },
      "execution_count": null,
      "outputs": [
        {
          "output_type": "stream",
          "name": "stdout",
          "text": [
            "Hello World\n"
          ]
        }
      ]
    },
    {
      "cell_type": "code",
      "source": [
        "print(\"Python\" * 3)  # 'PythonPythonPython'"
      ],
      "metadata": {
        "colab": {
          "base_uri": "https://localhost:8080/"
        },
        "id": "pDnQ5Mayrf8x",
        "outputId": "97b01def-aa1e-4cc8-b9fd-652d5714d787"
      },
      "execution_count": null,
      "outputs": [
        {
          "output_type": "stream",
          "name": "stdout",
          "text": [
            "PythonPythonPython\n"
          ]
        }
      ]
    },
    {
      "cell_type": "code",
      "source": [
        "print(\"Hello 'Python' World\")  # Hello 'Python' World"
      ],
      "metadata": {
        "colab": {
          "base_uri": "https://localhost:8080/"
        },
        "id": "Vw4EetE-rjIk",
        "outputId": "f1718141-3105-492e-ea08-52162256564d"
      },
      "execution_count": null,
      "outputs": [
        {
          "output_type": "stream",
          "name": "stdout",
          "text": [
            "Hello 'Python' World\n"
          ]
        }
      ]
    },
    {
      "cell_type": "code",
      "source": [
        "print(\"\"\"Hello 'Python' World\"\"\") # Hello 'Python' World"
      ],
      "metadata": {
        "colab": {
          "base_uri": "https://localhost:8080/"
        },
        "id": "n7NKDY93rsqR",
        "outputId": "d836fe15-4061-4196-f5af-696912236c2d"
      },
      "execution_count": null,
      "outputs": [
        {
          "output_type": "stream",
          "name": "stdout",
          "text": [
            "Hello 'Python' World\n"
          ]
        }
      ]
    },
    {
      "cell_type": "code",
      "source": [
        "print('''Let's go''') # Let's go"
      ],
      "metadata": {
        "colab": {
          "base_uri": "https://localhost:8080/"
        },
        "id": "dM36l1y3zV3e",
        "outputId": "b2c8184c-4c5b-41d6-b908-0b40e6bdb89a"
      },
      "execution_count": null,
      "outputs": [
        {
          "output_type": "stream",
          "name": "stdout",
          "text": [
            "Let's go\n"
          ]
        }
      ]
    },
    {
      "cell_type": "code",
      "source": [
        "print(\"Hello\\nPython\\tWorld!\") # escape 문자 \\n, \\t\n"
      ],
      "metadata": {
        "colab": {
          "base_uri": "https://localhost:8080/"
        },
        "id": "AOKkHJ8ImB3i",
        "outputId": "fe61ab14-4224-4ec8-f176-e62abf55104a"
      },
      "execution_count": null,
      "outputs": [
        {
          "output_type": "stream",
          "name": "stdout",
          "text": [
            "Hello\n",
            "Python\tWorld!\n"
          ]
        }
      ]
    },
    {
      "cell_type": "markdown",
      "source": [
        "## 3. 컬렉션 자료형\n",
        "### 1) 리스트"
      ],
      "metadata": {
        "id": "4SOmKT_636zd"
      }
    },
    {
      "cell_type": "code",
      "source": [
        "# 리스트 생성\n",
        "a = [1, 2, 3]\n",
        "b = ['Life', 'is', 'too', 'short']\n",
        "c = [1, 2, ['Life', 'is']]"
      ],
      "metadata": {
        "id": "dQcofcch4R5x"
      },
      "execution_count": null,
      "outputs": []
    },
    {
      "cell_type": "code",
      "source": [
        "# 인덱싱\n",
        "print(a[0])  # 1"
      ],
      "metadata": {
        "colab": {
          "base_uri": "https://localhost:8080/"
        },
        "id": "OA8C69x-4o8K",
        "outputId": "b14a215a-9ccc-48c4-97ed-3dd64dcc33e2"
      },
      "execution_count": null,
      "outputs": [
        {
          "output_type": "stream",
          "name": "stdout",
          "text": [
            "1\n"
          ]
        }
      ]
    },
    {
      "cell_type": "code",
      "source": [
        "\"Hello Python World\"[0:6]"
      ],
      "metadata": {
        "colab": {
          "base_uri": "https://localhost:8080/",
          "height": 35
        },
        "id": "yWUzHTCGnLyL",
        "outputId": "b1f3d554-30eb-43d7-a7e5-0725c76ea6ce"
      },
      "execution_count": null,
      "outputs": [
        {
          "output_type": "execute_result",
          "data": {
            "text/plain": [
              "'Hello '"
            ],
            "application/vnd.google.colaboratory.intrinsic+json": {
              "type": "string"
            }
          },
          "metadata": {},
          "execution_count": 26
        }
      ]
    },
    {
      "cell_type": "code",
      "source": [
        "\"Hello Python World\"[3:]"
      ],
      "metadata": {
        "colab": {
          "base_uri": "https://localhost:8080/",
          "height": 35
        },
        "id": "-T5BzjQLn6cS",
        "outputId": "8e1d6c87-13c9-47a6-bf09-18dc4c9a2026"
      },
      "execution_count": null,
      "outputs": [
        {
          "output_type": "execute_result",
          "data": {
            "text/plain": [
              "'lo Python World'"
            ],
            "application/vnd.google.colaboratory.intrinsic+json": {
              "type": "string"
            }
          },
          "metadata": {},
          "execution_count": 27
        }
      ]
    },
    {
      "cell_type": "code",
      "source": [
        "\"Hello Python World\"[:3]"
      ],
      "metadata": {
        "colab": {
          "base_uri": "https://localhost:8080/",
          "height": 35
        },
        "id": "STJ27PjOoDIF",
        "outputId": "bdeca09a-7a68-485a-a956-0e12842cf85c"
      },
      "execution_count": null,
      "outputs": [
        {
          "output_type": "execute_result",
          "data": {
            "text/plain": [
              "'Hel'"
            ],
            "application/vnd.google.colaboratory.intrinsic+json": {
              "type": "string"
            }
          },
          "metadata": {},
          "execution_count": 28
        }
      ]
    },
    {
      "cell_type": "code",
      "source": [
        "# 슬라이싱 [시작인덱스:끝인덱스-1]\n",
        "print(b[0:3])  # ['Life', 'is', 'too']"
      ],
      "metadata": {
        "colab": {
          "base_uri": "https://localhost:8080/"
        },
        "id": "Yo3T7J3R4tLM",
        "outputId": "a60e8459-aeec-452d-e7e4-53569c62c4a3"
      },
      "execution_count": null,
      "outputs": [
        {
          "output_type": "stream",
          "name": "stdout",
          "text": [
            "['Life', 'is', 'too']\n"
          ]
        }
      ]
    },
    {
      "cell_type": "code",
      "source": [
        "# 스플릿\n",
        "\"Hello Python World\".split(\" \")"
      ],
      "metadata": {
        "colab": {
          "base_uri": "https://localhost:8080/"
        },
        "id": "JJknh4sMoRtb",
        "outputId": "fbbd12ed-4e66-4602-bfc0-558162501b11"
      },
      "execution_count": null,
      "outputs": [
        {
          "output_type": "execute_result",
          "data": {
            "text/plain": [
              "['Hello', 'Python', 'World']"
            ]
          },
          "metadata": {},
          "execution_count": 29
        }
      ]
    },
    {
      "cell_type": "code",
      "source": [
        "\"Hello Python World\".split(\"o\")"
      ],
      "metadata": {
        "colab": {
          "base_uri": "https://localhost:8080/"
        },
        "id": "ZJwSqrisoaOk",
        "outputId": "b139ec22-ccdd-48e5-fc02-9f617eb14a62"
      },
      "execution_count": null,
      "outputs": [
        {
          "output_type": "execute_result",
          "data": {
            "text/plain": [
              "['Hell', ' Pyth', 'n W', 'rld']"
            ]
          },
          "metadata": {},
          "execution_count": 30
        }
      ]
    },
    {
      "cell_type": "code",
      "source": [
        "\"123412341234\".split(\"23\")"
      ],
      "metadata": {
        "colab": {
          "base_uri": "https://localhost:8080/"
        },
        "id": "rzxW7UnGoh_a",
        "outputId": "29dc88c0-d1d3-4e14-96f8-7f86b99bf5a8"
      },
      "execution_count": null,
      "outputs": [
        {
          "output_type": "execute_result",
          "data": {
            "text/plain": [
              "['1', '41', '41', '4']"
            ]
          },
          "metadata": {},
          "execution_count": 31
        }
      ]
    },
    {
      "cell_type": "code",
      "source": [
        "\"P\" in \"Hello Python World\""
      ],
      "metadata": {
        "colab": {
          "base_uri": "https://localhost:8080/"
        },
        "id": "5PEgIezCo4Uy",
        "outputId": "ea20c92f-f7ef-416f-a5ba-d2392e56a7b2"
      },
      "execution_count": null,
      "outputs": [
        {
          "output_type": "execute_result",
          "data": {
            "text/plain": [
              "True"
            ]
          },
          "metadata": {},
          "execution_count": 32
        }
      ]
    },
    {
      "cell_type": "code",
      "source": [
        "\"a\" in \"Hello Python World\""
      ],
      "metadata": {
        "colab": {
          "base_uri": "https://localhost:8080/"
        },
        "id": "uauF7nRvo_SN",
        "outputId": "c7d9acfe-ab03-420d-ab1f-6257f6e4dc3d"
      },
      "execution_count": null,
      "outputs": [
        {
          "output_type": "execute_result",
          "data": {
            "text/plain": [
              "False"
            ]
          },
          "metadata": {},
          "execution_count": 33
        }
      ]
    },
    {
      "cell_type": "code",
      "source": [
        "\"P\" not in \"Hello Python World\""
      ],
      "metadata": {
        "colab": {
          "base_uri": "https://localhost:8080/"
        },
        "id": "q26FYMxOpBcP",
        "outputId": "69fa0c69-1d27-4d78-fde2-943c4920e858"
      },
      "execution_count": null,
      "outputs": [
        {
          "output_type": "execute_result",
          "data": {
            "text/plain": [
              "False"
            ]
          },
          "metadata": {},
          "execution_count": 34
        }
      ]
    },
    {
      "cell_type": "code",
      "source": [
        "\"a\" not in \"Hello Python World\""
      ],
      "metadata": {
        "colab": {
          "base_uri": "https://localhost:8080/"
        },
        "id": "6VNaijljpDz6",
        "outputId": "e0b115f6-9c64-4cc7-bff0-53bdba776c00"
      },
      "execution_count": null,
      "outputs": [
        {
          "output_type": "execute_result",
          "data": {
            "text/plain": [
              "True"
            ]
          },
          "metadata": {},
          "execution_count": 35
        }
      ]
    },
    {
      "cell_type": "code",
      "source": [
        "# 수정\n",
        "c[2] = 'apple','banana','orange'\n",
        "print(c) # [1, 2, ('apple', 'banana', 'orange')]"
      ],
      "metadata": {
        "colab": {
          "base_uri": "https://localhost:8080/"
        },
        "id": "L79GzRvQ6qZa",
        "outputId": "0d438f79-8289-4c68-e126-9f592a29035e"
      },
      "execution_count": null,
      "outputs": [
        {
          "output_type": "stream",
          "name": "stdout",
          "text": [
            "[1, 2, ('apple', 'banana', 'orange')]\n"
          ]
        }
      ]
    },
    {
      "cell_type": "code",
      "source": [
        "# 삭제\n",
        "del c[2]\n",
        "print(c)"
      ],
      "metadata": {
        "colab": {
          "base_uri": "https://localhost:8080/"
        },
        "id": "oH-eBO1i_WK_",
        "outputId": "86e3dc0a-e394-4fab-8ece-d737e07b0049"
      },
      "execution_count": null,
      "outputs": [
        {
          "output_type": "stream",
          "name": "stdout",
          "text": [
            "[1, 2]\n"
          ]
        }
      ]
    },
    {
      "cell_type": "code",
      "source": [
        "# 추가(리스트 형식)\n",
        "c.insert(2, ['melon', 'grape'])\n",
        "print(c) # [1, 2, ['melon', 'grape']]"
      ],
      "metadata": {
        "colab": {
          "base_uri": "https://localhost:8080/"
        },
        "id": "OqaeFoHpAgdT",
        "outputId": "ceae38d1-04a5-4fd3-a6a8-81385ad784cd"
      },
      "execution_count": null,
      "outputs": [
        {
          "output_type": "stream",
          "name": "stdout",
          "text": [
            "[1, 2, ['melon', 'grape']]\n"
          ]
        }
      ]
    },
    {
      "cell_type": "code",
      "source": [
        "# 추가(단일 요소 형식)\n",
        "c.append('blueberry')\n",
        "c.append('watermelon')\n",
        "print(c) # [1, 2, ['melon', 'grape'], 'blueberry', 'watermelon']"
      ],
      "metadata": {
        "colab": {
          "base_uri": "https://localhost:8080/"
        },
        "id": "NVUlB5vt__am",
        "outputId": "04df55f9-59d7-467c-ccc0-9ef9db346e8e"
      },
      "execution_count": null,
      "outputs": [
        {
          "output_type": "stream",
          "name": "stdout",
          "text": [
            "[1, 2, ['melon', 'grape'], 'blueberry', 'watermelon']\n"
          ]
        }
      ]
    },
    {
      "cell_type": "code",
      "source": [
        "# 추가(리스트 확장 형식:데이터의 끝에서만 계속 추가됨)\n",
        "c.extend(['apple', 'banana'])\n",
        "print(c) # [1, 2, ['melon', 'grape'], 'blueberry', 'watermelon', 'apple', 'banana']"
      ],
      "metadata": {
        "colab": {
          "base_uri": "https://localhost:8080/"
        },
        "id": "mh-C1zhxDLX8",
        "outputId": "fee4f952-9cb8-4983-f421-d142f0ee7142"
      },
      "execution_count": null,
      "outputs": [
        {
          "output_type": "stream",
          "name": "stdout",
          "text": [
            "[1, 2, ['melon', 'grape'], 'blueberry', 'watermelon', 'apple', 'banana']\n"
          ]
        }
      ]
    },
    {
      "cell_type": "code",
      "execution_count": null,
      "metadata": {
        "jupyter": {
          "outputs_hidden": true
        },
        "colab": {
          "base_uri": "https://localhost:8080/"
        },
        "id": "fVCJYv72OOFE",
        "outputId": "ff341792-eef8-4ece-b67c-f063cedb66b7"
      },
      "outputs": [
        {
          "output_type": "stream",
          "name": "stdout",
          "text": [
            "6\n"
          ]
        }
      ],
      "source": [
        "##### 변할 수 있는 값을 담는 공간\n",
        "a=3\n",
        "b=2\n",
        "a=a*b\n",
        "print(a)"
      ]
    },
    {
      "cell_type": "code",
      "execution_count": null,
      "metadata": {
        "colab": {
          "base_uri": "https://localhost:8080/"
        },
        "id": "ycOwAhPFOOFK",
        "outputId": "583098d0-397b-4860-be01-3b7cf502ce57"
      },
      "outputs": [
        {
          "output_type": "stream",
          "name": "stdout",
          "text": [
            "<class 'int'>\n",
            "<class 'str'>\n"
          ]
        }
      ],
      "source": [
        "A=\"3\"\n",
        "print(type(a))\n",
        "print(type(A))"
      ]
    },
    {
      "cell_type": "code",
      "execution_count": null,
      "metadata": {
        "colab": {
          "base_uri": "https://localhost:8080/",
          "height": 110
        },
        "id": "DkJ5QB-1OOFL",
        "outputId": "efb61fb3-1ade-4fe8-ff3a-9e9e0f6336a6"
      },
      "outputs": [
        {
          "output_type": "error",
          "ename": "SyntaxError",
          "evalue": "invalid decimal literal (<ipython-input-3-ea85cb5e90bf>, line 1)",
          "traceback": [
            "\u001b[0;36m  File \u001b[0;32m\"<ipython-input-3-ea85cb5e90bf>\"\u001b[0;36m, line \u001b[0;32m1\u001b[0m\n\u001b[0;31m    3A = 2\u001b[0m\n\u001b[0m    ^\u001b[0m\n\u001b[0;31mSyntaxError\u001b[0m\u001b[0;31m:\u001b[0m invalid decimal literal\n"
          ]
        }
      ],
      "source": [
        "3A = 2"
      ]
    },
    {
      "cell_type": "code",
      "execution_count": null,
      "metadata": {
        "id": "8YxjaoK6OOFN"
      },
      "outputs": [],
      "source": [
        "### 변수명 예약어 사용불가\n",
        "if = 3"
      ]
    },
    {
      "cell_type": "markdown",
      "metadata": {
        "id": "ZAI0mPg5OOFO"
      },
      "source": [
        "# 1. 수(Number)"
      ]
    },
    {
      "cell_type": "code",
      "execution_count": null,
      "metadata": {
        "colab": {
          "base_uri": "https://localhost:8080/"
        },
        "id": "gMqEnEU3OOFO",
        "outputId": "7127cf71-1a40-4884-d1ef-e5d1bea6f857"
      },
      "outputs": [
        {
          "output_type": "stream",
          "name": "stdout",
          "text": [
            "135.456\n",
            "1532.088\n",
            "9.8747591522158\n",
            "144\n",
            "3\n"
          ]
        }
      ],
      "source": [
        "integer_value = 123\n",
        "float_value = 12.456\n",
        "\n",
        "# 1. 더하기 연산\n",
        "sumation = integer_value+float_value\n",
        "print(sumation)\n",
        "\n",
        "# 2. 곱하기 연산\n",
        "multiple = integer_value*float_value\n",
        "print(multiple)\n",
        "\n",
        "# 3. 나누기 연산\n",
        "division = integer_value/float_value\n",
        "print(division)\n",
        "\n",
        "# 4. 제곱연산\n",
        "integer_value2 = int(float_value)\n",
        "exponential = integer_value2**2\n",
        "print(exponential)\n",
        "\n",
        "# 5. 나머지 연산\n",
        "mod = integer_value%int(float_value)\n",
        "print(mod)"
      ]
    },
    {
      "cell_type": "markdown",
      "metadata": {
        "id": "bn9l__PwOOFQ"
      },
      "source": [
        "### [실습]\n",
        "현재 시간과 분을 입력값으로 받아서\n",
        "두개의 값을 더하는 연산을 수행하세요"
      ]
    },
    {
      "cell_type": "code",
      "execution_count": null,
      "metadata": {
        "colab": {
          "base_uri": "https://localhost:8080/"
        },
        "id": "bm0RWADKOOFR",
        "outputId": "82e753f1-45ef-4507-b40a-6a419dd5ae37"
      },
      "outputs": [
        {
          "output_type": "execute_result",
          "data": {
            "text/plain": [
              "26"
            ]
          },
          "metadata": {},
          "execution_count": 7
        }
      ],
      "source": [
        "time = 13\n",
        "minutes = 13\n",
        "sumation = time+minutes\n",
        "sumation"
      ]
    },
    {
      "cell_type": "code",
      "execution_count": null,
      "metadata": {
        "id": "MHrxIimLOOFT"
      },
      "outputs": [],
      "source": [
        "import datetime as dt"
      ]
    },
    {
      "cell_type": "code",
      "execution_count": null,
      "metadata": {
        "colab": {
          "base_uri": "https://localhost:8080/"
        },
        "id": "O2fnzTHDOOFV",
        "outputId": "3f02f3c0-7ea5-4a81-8bfd-e9c7ed3ff8df"
      },
      "outputs": [
        {
          "output_type": "execute_result",
          "data": {
            "text/plain": [
              "datetime.datetime(2024, 7, 21, 12, 17, 8, 986775)"
            ]
          },
          "metadata": {},
          "execution_count": 9
        }
      ],
      "source": [
        "current_time = dt.datetime.now()\n",
        "current_time"
      ]
    },
    {
      "cell_type": "code",
      "execution_count": null,
      "metadata": {
        "colab": {
          "base_uri": "https://localhost:8080/"
        },
        "id": "1_Ehmmx4OOFW",
        "outputId": "1afb158a-56e9-4765-b57e-e90e6b5c9fe1"
      },
      "outputs": [
        {
          "output_type": "execute_result",
          "data": {
            "text/plain": [
              "29"
            ]
          },
          "metadata": {},
          "execution_count": 10
        }
      ],
      "source": [
        "current_hour = current_time.hour\n",
        "current_minutes = current_time.minute\n",
        "sumation= current_hour + current_minutes\n",
        "sumation"
      ]
    },
    {
      "cell_type": "code",
      "execution_count": null,
      "metadata": {
        "id": "yFK7W8_NOOFZ"
      },
      "outputs": [],
      "source": [
        "aaa = 11.222"
      ]
    },
    {
      "cell_type": "code",
      "execution_count": null,
      "metadata": {
        "colab": {
          "base_uri": "https://localhost:8080/"
        },
        "id": "hzohrcNoOOFa",
        "outputId": "95ae4824-983f-4f47-82e1-109687660b1e"
      },
      "outputs": [
        {
          "output_type": "execute_result",
          "data": {
            "text/plain": [
              "float"
            ]
          },
          "metadata": {},
          "execution_count": 12
        }
      ],
      "source": [
        "type(aaa)"
      ]
    },
    {
      "cell_type": "code",
      "execution_count": null,
      "metadata": {
        "colab": {
          "base_uri": "https://localhost:8080/"
        },
        "id": "pI4pDXk6OOFc",
        "outputId": "94bf0e12-b891-40bb-8e36-e6eb0293006e"
      },
      "outputs": [
        {
          "output_type": "stream",
          "name": "stdout",
          "text": [
            "19\n"
          ]
        }
      ],
      "source": [
        "time = 7\n",
        "day = 12\n",
        "\n",
        "sumation = 7+12\n",
        "print(sumation)"
      ]
    },
    {
      "cell_type": "code",
      "execution_count": null,
      "metadata": {
        "colab": {
          "base_uri": "https://localhost:8080/"
        },
        "id": "aAvpBEaZOOFc",
        "outputId": "8edda3c8-83f8-4e68-a529-013aa9d75e07"
      },
      "outputs": [
        {
          "output_type": "stream",
          "name": "stdout",
          "text": [
            "12 시 21 일 합계는 ->  33\n"
          ]
        }
      ],
      "source": [
        "import datetime as dt\n",
        "\n",
        "s = dt.datetime.now()\n",
        "#시간정보\n",
        "time = s.hour\n",
        "date = s.day\n",
        "\n",
        "sumation = time+date\n",
        "print(time, \"시\", date, \"일\" , \"합계는 -> \", sumation)"
      ]
    },
    {
      "cell_type": "markdown",
      "metadata": {
        "id": "LklEJX8WOOFd"
      },
      "source": [
        "# 2. 문자열"
      ]
    },
    {
      "cell_type": "markdown",
      "metadata": {
        "id": "3kIWdlKWOOFe"
      },
      "source": [
        "문자, 단어등으로 구성된 집합"
      ]
    },
    {
      "cell_type": "code",
      "execution_count": null,
      "metadata": {
        "colab": {
          "base_uri": "https://localhost:8080/"
        },
        "id": "S1jcmLGrOOFf",
        "outputId": "88e6e734-5740-45ed-84a1-0136213890bc"
      },
      "outputs": [
        {
          "output_type": "stream",
          "name": "stdout",
          "text": [
            "This is 'String' value\n",
            "This is \"String\" value\n",
            " This is \n",
            "'String\" value\n"
          ]
        }
      ],
      "source": [
        "aType = \"This is 'String' value\"\n",
        "print(aType)\n",
        "bType = 'This is \"String\" value'\n",
        "print(bType)\n",
        "cType = \"\"\" This is\n",
        "'String\" value\"\"\"\n",
        "print(cType)"
      ]
    },
    {
      "cell_type": "markdown",
      "metadata": {
        "id": "iVq4Fn8ZOOFf"
      },
      "source": [
        "### (1) 기본연산"
      ]
    },
    {
      "cell_type": "code",
      "execution_count": null,
      "metadata": {
        "colab": {
          "base_uri": "https://localhost:8080/"
        },
        "id": "VKulMKa0OOFg",
        "outputId": "1805d769-1105-4e0e-9c6a-3c4eaca24560"
      },
      "outputs": [
        {
          "output_type": "stream",
          "name": "stdout",
          "text": [
            "smart analytics\n",
            "********************\n",
            "2\n",
            "2018\n",
            "01\n",
            "0\n",
            "01\n"
          ]
        }
      ],
      "source": [
        "#문자열 더하기\n",
        "head = \"smart\"\n",
        "tail = \"analytics\"\n",
        "fullString = head+\" \"+tail\n",
        "print(fullString)\n",
        "\n",
        "#문자열 곱하기\n",
        "print(\"*\"*20)\n",
        "\n",
        "#문자열 인덱싱 0부터 시작\n",
        "yearweek = \"201801\"\n",
        "print(yearweek[0])   #첫번째 문자열\n",
        "print(yearweek[0:4]) #0~4번째 전 문자열\n",
        "print(yearweek[4:])  #4번째부터 끝까지\n",
        "print(yearweek[-2])  #끝에서 두 번째 문자열\n",
        "print(yearweek[-2:])  #끝에서 두 번째부터 마지막까지 인덱스"
      ]
    },
    {
      "cell_type": "markdown",
      "metadata": {
        "id": "Nts6Z9UCOOFh"
      },
      "source": [
        "### (2) 자주 사용되는 연산"
      ]
    },
    {
      "cell_type": "code",
      "execution_count": null,
      "metadata": {
        "colab": {
          "base_uri": "https://localhost:8080/"
        },
        "id": "ei8f5LsPOOFi",
        "outputId": "18beede5-66f9-4ce2-c70e-815d815b268a"
      },
      "outputs": [
        {
          "output_type": "stream",
          "name": "stdout",
          "text": [
            "1\n",
            "4\n",
            "201728\n",
            "LED_TV\n",
            "led_tv\n",
            "2017_28\n",
            "['2017', '28']\n"
          ]
        }
      ],
      "source": [
        "#문자열 개수세기 (count)\n",
        "yearweek = \"2017W28\"\n",
        "print(yearweek.count(\"W\"))\n",
        "\n",
        "#문자열 위치확인 (index)\n",
        "print(yearweek.index(\"W\"))\n",
        "delimeter=yearweek.index(\"W\")\n",
        "newYearweek = yearweek[:delimeter]+yearweek[delimeter+1:]\n",
        "print(newYearweek)\n",
        "\n",
        "# 대소문자 구별함수 (upper/lower)\n",
        "letters = \"LeD_tv\"\n",
        "print(letters.upper())\n",
        "print(letters.lower())\n",
        "\n",
        "# 문자 치환 (replace)\n",
        "repLetters = \"2017W28\"\n",
        "print(repLetters.replace(\"W\",\"_\"))\n",
        "\n",
        "# 문자 분리 (split)\n",
        "yearweek_list = yearweek.split(\"W\")\n",
        "print(yearweek_list)"
      ]
    },
    {
      "cell_type": "markdown",
      "metadata": {
        "id": "hWEB_690OOFi"
      },
      "source": [
        "### [실습1]\n",
        "\"SEC 20180212 250\"  문자열 생성 후\n",
        "stock_name, date, value로 각각 의미하는\n",
        "문자열을 생성하세요"
      ]
    },
    {
      "cell_type": "code",
      "execution_count": null,
      "metadata": {
        "id": "oZVtdjEnOOFj"
      },
      "outputs": [],
      "source": [
        "testData = \"SEC 20180212 250\""
      ]
    },
    {
      "cell_type": "code",
      "execution_count": null,
      "metadata": {
        "id": "J1T1kXiHOOFk"
      },
      "outputs": [],
      "source": [
        "testDataSplit = testData.split(\" \")\n"
      ]
    },
    {
      "cell_type": "code",
      "execution_count": null,
      "metadata": {
        "id": "84owdyP4OOFk"
      },
      "outputs": [],
      "source": [
        "stockname = testDataSplit[0]\n",
        "date = testDataSplit[1]\n",
        "value = testDataSplit[2]"
      ]
    },
    {
      "cell_type": "code",
      "execution_count": null,
      "metadata": {
        "colab": {
          "base_uri": "https://localhost:8080/"
        },
        "id": "QqIhChp3OOFl",
        "outputId": "2ae2afb0-f24a-447a-bd8f-8cecc0253475"
      },
      "outputs": [
        {
          "output_type": "stream",
          "name": "stdout",
          "text": [
            "SEC\n",
            "20180212\n",
            "250\n"
          ]
        }
      ],
      "source": [
        "print(stockname)\n",
        "print(date)\n",
        "print(value)"
      ]
    },
    {
      "cell_type": "markdown",
      "metadata": {
        "id": "RaqKRdYHOOFm"
      },
      "source": [
        "### [실습2]\n",
        "“Sec 2018W28 250”  문자열 생성 후\n",
        "stock_name, date, value로 각각 의미하는\n",
        "문자열을 생성하세요\n",
        "(단 모두 대문자여야 하며, ‘W’를 삭제해야함)"
      ]
    },
    {
      "cell_type": "code",
      "execution_count": null,
      "metadata": {
        "colab": {
          "base_uri": "https://localhost:8080/",
          "height": 36
        },
        "id": "j0BBTUSpOOFm",
        "outputId": "f869f76b-c555-4d92-a86e-3f3503dfb2ba"
      },
      "outputs": [
        {
          "output_type": "execute_result",
          "data": {
            "text/plain": [
              "'Sec 2017W28 250'"
            ],
            "application/vnd.google.colaboratory.intrinsic+json": {
              "type": "string"
            }
          },
          "metadata": {},
          "execution_count": 22
        }
      ],
      "source": [
        "testData2 = \"Sec 2017W28 250\"\n",
        "testData2"
      ]
    },
    {
      "cell_type": "markdown",
      "metadata": {
        "id": "FMi8VgvyOOFn"
      },
      "source": [
        "### (3) 자료형 변환"
      ]
    },
    {
      "cell_type": "code",
      "execution_count": null,
      "metadata": {
        "colab": {
          "base_uri": "https://localhost:8080/"
        },
        "id": "I9wQ1bYMOOFn",
        "outputId": "753b745f-af76-482d-a009-c00aea28f2bc"
      },
      "outputs": [
        {
          "output_type": "stream",
          "name": "stdout",
          "text": [
            "<class 'int'>\n",
            "<class 'float'>\n",
            "<class 'str'>\n"
          ]
        }
      ],
      "source": [
        "#문자 → 수(정수)\n",
        "strValue = \"1234\"\n",
        "cvIntValue = int(strValue)\n",
        "print(type(cvIntValue))\n",
        "\n",
        "#문자 → 수(실수)\n",
        "strValue = \"1234\"\n",
        "cvFloatValue = float(strValue)\n",
        "print(type(cvFloatValue))\n",
        "\n",
        "#숫자 → 문자\n",
        "numberValue = 1234\n",
        "cvStrValue = str(numberValue)\n",
        "print(type(cvStrValue))"
      ]
    },
    {
      "cell_type": "markdown",
      "metadata": {
        "id": "1F-KkLGMOOFp"
      },
      "source": [
        "### 참조 [문자열 분리]"
      ]
    },
    {
      "cell_type": "code",
      "execution_count": null,
      "metadata": {
        "colab": {
          "base_uri": "https://localhost:8080/",
          "height": 36
        },
        "id": "e3wbYLe_OOFq",
        "outputId": "c5de29f7-c5b7-4e7c-d53b-183e783556f4"
      },
      "outputs": [
        {
          "output_type": "execute_result",
          "data": {
            "text/plain": [
              "'12'"
            ],
            "application/vnd.google.colaboratory.intrinsic+json": {
              "type": "string"
            }
          },
          "metadata": {},
          "execution_count": 24
        }
      ],
      "source": [
        "orgletter = \"2017w12\"\n",
        "\n",
        "splitter = \"w\"\n",
        "\n",
        "answer = orgletter.split(splitter)\n",
        "\n",
        "answer[0]\n",
        "\n",
        "answer[1]"
      ]
    },
    {
      "cell_type": "markdown",
      "metadata": {
        "id": "dqd3GHvtOOFr"
      },
      "source": [
        "# 3. 리스트"
      ]
    },
    {
      "cell_type": "markdown",
      "metadata": {
        "id": "7Ws1dGbvOOFr"
      },
      "source": [
        "특정 집합 모음을 표현할 수 있는 자료형"
      ]
    },
    {
      "cell_type": "code",
      "source": [
        "no = [1,2,3,4,5,6,7,8]\n",
        "no[0]"
      ],
      "metadata": {
        "colab": {
          "base_uri": "https://localhost:8080/"
        },
        "id": "gt_tXa6IpYrm",
        "outputId": "2050d30e-6b01-4a6b-83ba-76f0ecc842cb"
      },
      "execution_count": null,
      "outputs": [
        {
          "output_type": "execute_result",
          "data": {
            "text/plain": [
              "1"
            ]
          },
          "metadata": {},
          "execution_count": 36
        }
      ]
    },
    {
      "cell_type": "code",
      "source": [
        "no[2:3]"
      ],
      "metadata": {
        "colab": {
          "base_uri": "https://localhost:8080/"
        },
        "id": "p13U8L1OpglA",
        "outputId": "817af5d0-2fef-4cc0-bff7-2ed82d901aa0"
      },
      "execution_count": null,
      "outputs": [
        {
          "output_type": "execute_result",
          "data": {
            "text/plain": [
              "[3]"
            ]
          },
          "metadata": {},
          "execution_count": 38
        }
      ]
    },
    {
      "cell_type": "code",
      "source": [
        "no[2:3 + 1]"
      ],
      "metadata": {
        "colab": {
          "base_uri": "https://localhost:8080/"
        },
        "id": "1ZxLDhnoppEk",
        "outputId": "5236e680-412a-4c0b-81b7-f253eee5301b"
      },
      "execution_count": null,
      "outputs": [
        {
          "output_type": "execute_result",
          "data": {
            "text/plain": [
              "[3, 4]"
            ]
          },
          "metadata": {},
          "execution_count": 39
        }
      ]
    },
    {
      "cell_type": "code",
      "source": [
        "no[3]"
      ],
      "metadata": {
        "colab": {
          "base_uri": "https://localhost:8080/"
        },
        "id": "qbHbIS7epsfG",
        "outputId": "0b179d7a-344d-4aca-fef2-e12700c23c88"
      },
      "execution_count": null,
      "outputs": [
        {
          "output_type": "execute_result",
          "data": {
            "text/plain": [
              "4"
            ]
          },
          "metadata": {},
          "execution_count": 40
        }
      ]
    },
    {
      "cell_type": "code",
      "source": [
        "no[-3]"
      ],
      "metadata": {
        "colab": {
          "base_uri": "https://localhost:8080/"
        },
        "id": "lnkqtIxApvdT",
        "outputId": "c928ffd3-a344-4e36-b18d-d44b84d21a5f"
      },
      "execution_count": null,
      "outputs": [
        {
          "output_type": "execute_result",
          "data": {
            "text/plain": [
              "6"
            ]
          },
          "metadata": {},
          "execution_count": 41
        }
      ]
    },
    {
      "cell_type": "code",
      "source": [
        "3 in no"
      ],
      "metadata": {
        "colab": {
          "base_uri": "https://localhost:8080/"
        },
        "id": "KOwHnElRp9Kd",
        "outputId": "c0d28cf5-e3aa-49e0-d9bf-f643c6135334"
      },
      "execution_count": null,
      "outputs": [
        {
          "output_type": "execute_result",
          "data": {
            "text/plain": [
              "True"
            ]
          },
          "metadata": {},
          "execution_count": 43
        }
      ]
    },
    {
      "cell_type": "code",
      "source": [
        "s = \"Hello World\"\n",
        "s[1]"
      ],
      "metadata": {
        "colab": {
          "base_uri": "https://localhost:8080/",
          "height": 35
        },
        "id": "-GM7QBsopzeL",
        "outputId": "f30e60e8-51e2-429e-a443-a2ba990f974b"
      },
      "execution_count": null,
      "outputs": [
        {
          "output_type": "execute_result",
          "data": {
            "text/plain": [
              "'e'"
            ],
            "application/vnd.google.colaboratory.intrinsic+json": {
              "type": "string"
            }
          },
          "metadata": {},
          "execution_count": 45
        }
      ]
    },
    {
      "cell_type": "code",
      "execution_count": null,
      "metadata": {
        "colab": {
          "base_uri": "https://localhost:8080/"
        },
        "id": "faywhf40OOFs",
        "outputId": "1994bd4e-9847-417b-e37d-e6d8f75e7a0a"
      },
      "outputs": [
        {
          "output_type": "stream",
          "name": "stdout",
          "text": [
            "[120, 130, 150, 200, 170]\n",
            "['SEC', 120, 130, [201712, 201713]]\n"
          ]
        }
      ],
      "source": [
        "emptyList = []\n",
        "priceList = [120,130,150,200,170]\n",
        "print(priceList)\n",
        "secInfo = [\"SEC\",120,130, [201712,201713]]\n",
        "print(secInfo)"
      ]
    },
    {
      "cell_type": "markdown",
      "metadata": {
        "id": "HuYb8Te1OOFt"
      },
      "source": [
        "### (1) 기본 연산"
      ]
    },
    {
      "cell_type": "code",
      "execution_count": null,
      "metadata": {
        "colab": {
          "base_uri": "https://localhost:8080/"
        },
        "id": "h_4vPhGdOOFt",
        "outputId": "e192cd83-5a8f-47a2-cc39-ee952f3bca08"
      },
      "outputs": [
        {
          "output_type": "stream",
          "name": "stdout",
          "text": [
            "['SEC', 120, 130, [201712, 201713]]\n",
            "120\n",
            "[201712, 201713]\n",
            "201712\n",
            "['SEC', 120, 130]\n",
            "SEC\n"
          ]
        }
      ],
      "source": [
        "#리스트 연산\n",
        "stockName = [\"SEC\"]\n",
        "priceList = [120,130]\n",
        "dateList = [201712,201713]\n",
        "\n",
        "secinfo = stockName+priceList+[dateList]\n",
        "print(secinfo)\n",
        "\n",
        "#리스트 인덱싱\n",
        "secinfo=[\"SEC\",120,130,[201712,201713]]\n",
        "print(secinfo[1])\n",
        "print(secinfo[3])\n",
        "print(secinfo[3][0])\n",
        "print(secinfo[0:3])\n",
        "print(secinfo[-4]) # 끝에서 4번째인덱스"
      ]
    },
    {
      "cell_type": "markdown",
      "metadata": {
        "id": "CyruSi1JOOGA"
      },
      "source": [
        "### (2) 리스트 값 수정"
      ]
    },
    {
      "cell_type": "code",
      "execution_count": null,
      "metadata": {
        "colab": {
          "base_uri": "https://localhost:8080/"
        },
        "id": "DxNRitjnOOGB",
        "outputId": "40c86682-bf98-48c1-80fc-91da21532e6d"
      },
      "outputs": [
        {
          "output_type": "stream",
          "name": "stdout",
          "text": [
            "[120, 130, 140, 150]\n",
            "[120, 130, 180, 150]\n",
            "[120, 180]\n"
          ]
        }
      ],
      "source": [
        "#리스트 값 업데이트 하기\n",
        "updateList = [120,130,140,150]\n",
        "print(updateList)\n",
        "updateList[2] = 180\n",
        "print(updateList)\n",
        "\n",
        "#리스트 값 삭제하기\n",
        "updateList.remove(130)\n",
        "del updateList[2]\n",
        "print(updateList)\n",
        "\n",
        "#리스트 구간 데이터 삭제하기 구간 (1 이후 인덱스 삭제)\n",
        "updateList[ 1 : ] = []"
      ]
    },
    {
      "cell_type": "markdown",
      "metadata": {
        "id": "9YrPPKJZOOGC"
      },
      "source": [
        "### (3) 자주 사용되는 연산"
      ]
    },
    {
      "cell_type": "code",
      "execution_count": null,
      "metadata": {
        "colab": {
          "base_uri": "https://localhost:8080/"
        },
        "id": "5RmfS5IDOOGC",
        "outputId": "287b5574-9d6b-40d0-c9a1-da5911d0657f"
      },
      "outputs": [
        {
          "output_type": "stream",
          "name": "stdout",
          "text": [
            "[120, 130, 140, 100, 150, 100, 11, 12]\n",
            "[11, 12, 100, 100, 120, 130, 140, 150]\n",
            "7\n",
            "8\n",
            "11\n",
            "150\n",
            "763\n"
          ]
        },
        {
          "output_type": "execute_result",
          "data": {
            "text/plain": [
              "2"
            ]
          },
          "metadata": {},
          "execution_count": 28
        }
      ],
      "source": [
        "functionList = [120, 130, 140, 150]\n",
        "\n",
        "#리스트에 아이템 추가하기\n",
        "functionList.append(100)\n",
        "functionList.insert(3, 100)\n",
        "functionList.extend( [11, 12] )\n",
        "print(functionList)\n",
        "\n",
        "#리스트 정렬하기\n",
        "functionList.sort(reverse = False)\n",
        "print(functionList)\n",
        "\n",
        "#값으로 인덱스 가져오기\n",
        "print(functionList.index(150))\n",
        "\n",
        "#리스트 자주사용하는 함수\n",
        "print(len(functionList))\n",
        "print(min(functionList))\n",
        "print(max(functionList))\n",
        "print(sum(functionList))\n",
        "\n",
        "#리스트에 아이템 개수 세기\n",
        "functionList = [120,130,140,150,120]\n",
        "functionList.count(120)"
      ]
    },
    {
      "cell_type": "markdown",
      "metadata": {
        "id": "yOI1MSqMOOGD"
      },
      "source": [
        "참조"
      ]
    },
    {
      "cell_type": "code",
      "execution_count": null,
      "metadata": {
        "colab": {
          "base_uri": "https://localhost:8080/"
        },
        "id": "icT0IkO9OOGE",
        "outputId": "5dd08781-7ce0-4942-85b0-647243657d26"
      },
      "outputs": [
        {
          "output_type": "execute_result",
          "data": {
            "text/plain": [
              "2"
            ]
          },
          "metadata": {},
          "execution_count": 29
        }
      ],
      "source": [
        "functionList =  [120,130,140,150,120]\n",
        "functionList.count(120)"
      ]
    },
    {
      "cell_type": "markdown",
      "metadata": {
        "id": "WGEI4C7fOOGF"
      },
      "source": [
        "### [실습]\n",
        "[120,150,300,500,1000,100,2000]\n",
        "값에서 최소 최대 값을 뺀 평균을\n",
        "average 이름의 변수에 담으세요"
      ]
    },
    {
      "cell_type": "markdown",
      "metadata": {
        "id": "WnIAQOdOOOGF"
      },
      "source": [
        "풀이#1"
      ]
    },
    {
      "cell_type": "code",
      "execution_count": null,
      "metadata": {
        "id": "VhcuH1F1OOGG"
      },
      "outputs": [],
      "source": [
        "test = [120,150,300,500,1000,100,2000]"
      ]
    },
    {
      "cell_type": "code",
      "execution_count": null,
      "metadata": {
        "id": "_9kMSowLOOGH"
      },
      "outputs": [],
      "source": [
        "test.remove(min(test))"
      ]
    },
    {
      "cell_type": "code",
      "execution_count": null,
      "metadata": {
        "id": "5GcmihHmOOGH"
      },
      "outputs": [],
      "source": [
        "test.remove(max(test))"
      ]
    },
    {
      "cell_type": "code",
      "execution_count": null,
      "metadata": {
        "colab": {
          "base_uri": "https://localhost:8080/"
        },
        "id": "acvNd9R0OOGI",
        "outputId": "966ad092-0290-4fe8-88fc-6bf7146a4de5"
      },
      "outputs": [
        {
          "output_type": "execute_result",
          "data": {
            "text/plain": [
              "[120, 150, 300, 500, 1000]"
            ]
          },
          "metadata": {},
          "execution_count": 33
        }
      ],
      "source": [
        "test"
      ]
    },
    {
      "cell_type": "code",
      "execution_count": null,
      "metadata": {
        "id": "BKYJPvqfOOGI"
      },
      "outputs": [],
      "source": [
        "average = sum(test)/len(test)"
      ]
    },
    {
      "cell_type": "code",
      "execution_count": null,
      "metadata": {
        "colab": {
          "base_uri": "https://localhost:8080/"
        },
        "id": "C43PtUSMOOGJ",
        "outputId": "1c41d52e-4a5e-4c75-f4f4-b5338ef494fe"
      },
      "outputs": [
        {
          "output_type": "execute_result",
          "data": {
            "text/plain": [
              "414.0"
            ]
          },
          "metadata": {},
          "execution_count": 35
        }
      ],
      "source": [
        "average"
      ]
    },
    {
      "cell_type": "markdown",
      "metadata": {
        "id": "0tktt0SBOOGL"
      },
      "source": [
        "풀이 #2"
      ]
    },
    {
      "cell_type": "code",
      "execution_count": null,
      "metadata": {
        "id": "4rXSqznEOOGM"
      },
      "outputs": [],
      "source": [
        "test = [120,150,300,500,1000,100,2000]"
      ]
    },
    {
      "cell_type": "code",
      "execution_count": null,
      "metadata": {
        "colab": {
          "base_uri": "https://localhost:8080/"
        },
        "id": "rLlGABzXOOGN",
        "outputId": "c86a5943-dd70-4ca2-ac92-f51002374995"
      },
      "outputs": [
        {
          "output_type": "execute_result",
          "data": {
            "text/plain": [
              "5"
            ]
          },
          "metadata": {},
          "execution_count": 37
        }
      ],
      "source": [
        "minValueIndex = test.index(min(test))\n",
        "minValueIndex"
      ]
    },
    {
      "cell_type": "code",
      "execution_count": null,
      "metadata": {
        "id": "TpMzOhqiOOGP"
      },
      "outputs": [],
      "source": [
        "del test[minValueIndex]"
      ]
    },
    {
      "cell_type": "code",
      "execution_count": null,
      "metadata": {
        "scrolled": true,
        "colab": {
          "base_uri": "https://localhost:8080/"
        },
        "id": "YYk3zvUrOOGR",
        "outputId": "8204edf8-a7b3-4f31-c6ac-6c30c657c755"
      },
      "outputs": [
        {
          "output_type": "execute_result",
          "data": {
            "text/plain": [
              "5"
            ]
          },
          "metadata": {},
          "execution_count": 39
        }
      ],
      "source": [
        "maxValueIndex = test.index(max(test))\n",
        "maxValueIndex"
      ]
    },
    {
      "cell_type": "code",
      "execution_count": null,
      "metadata": {
        "id": "UTDM-28ZOOGS"
      },
      "outputs": [],
      "source": [
        "del test[maxValueIndex]"
      ]
    },
    {
      "cell_type": "code",
      "execution_count": null,
      "metadata": {
        "colab": {
          "base_uri": "https://localhost:8080/"
        },
        "id": "55a6o8h4OOGS",
        "outputId": "079768f2-40f1-471f-aef4-418c072fce19"
      },
      "outputs": [
        {
          "output_type": "execute_result",
          "data": {
            "text/plain": [
              "[120, 150, 300, 500, 1000]"
            ]
          },
          "metadata": {},
          "execution_count": 41
        }
      ],
      "source": [
        "test"
      ]
    },
    {
      "cell_type": "code",
      "execution_count": null,
      "metadata": {
        "id": "mZVjqT8iOOGT"
      },
      "outputs": [],
      "source": [
        "average =0.0\n",
        "if len(test)!=0:\n",
        "  average = sum(test)/len(test)\n",
        "else:\n",
        "    average = 1"
      ]
    },
    {
      "cell_type": "code",
      "execution_count": null,
      "metadata": {
        "colab": {
          "base_uri": "https://localhost:8080/"
        },
        "id": "pxldqH1aOOGU",
        "outputId": "be167c2d-082a-412e-ed9c-5af64d9422c6"
      },
      "outputs": [
        {
          "output_type": "execute_result",
          "data": {
            "text/plain": [
              "414.0"
            ]
          },
          "metadata": {},
          "execution_count": 43
        }
      ],
      "source": [
        "average"
      ]
    },
    {
      "cell_type": "code",
      "execution_count": null,
      "metadata": {
        "id": "vkXpQKUGOOGV"
      },
      "outputs": [],
      "source": [
        "average = sum(test)/len(test)"
      ]
    },
    {
      "cell_type": "code",
      "execution_count": null,
      "metadata": {
        "colab": {
          "base_uri": "https://localhost:8080/"
        },
        "id": "hRC8MYLLOOGW",
        "outputId": "da21e768-8d8a-48ea-cb8f-d6319f007fbf"
      },
      "outputs": [
        {
          "output_type": "execute_result",
          "data": {
            "text/plain": [
              "414.0"
            ]
          },
          "metadata": {},
          "execution_count": 45
        }
      ],
      "source": [
        "average"
      ]
    },
    {
      "cell_type": "markdown",
      "metadata": {
        "id": "zOA4_c1sOOGW"
      },
      "source": [
        "# 4. 튜플 (Tuple)"
      ]
    },
    {
      "cell_type": "code",
      "execution_count": null,
      "metadata": {
        "id": "DkA9HOCBOOGX"
      },
      "outputs": [],
      "source": [
        "emptyTuple = ()\n",
        "timeTuple = (1,2,3,4,5,6)"
      ]
    },
    {
      "cell_type": "markdown",
      "metadata": {
        "id": "xehn4cfsOOGY"
      },
      "source": [
        "튜플 기본연산"
      ]
    },
    {
      "cell_type": "code",
      "execution_count": null,
      "metadata": {
        "colab": {
          "base_uri": "https://localhost:8080/"
        },
        "id": "MiEwPB_0OOGY",
        "outputId": "10f8c1a0-3b2c-4580-d50b-d1692fa3f429"
      },
      "outputs": [
        {
          "output_type": "stream",
          "name": "stdout",
          "text": [
            "2\n",
            "4\n",
            "(1, 2, 3)\n"
          ]
        },
        {
          "output_type": "execute_result",
          "data": {
            "text/plain": [
              "6"
            ]
          },
          "metadata": {},
          "execution_count": 47
        }
      ],
      "source": [
        "#튜플 인덱싱\n",
        "timeTuple = (1,2,3,4,5,6)\n",
        "\n",
        "print(timeTuple[1])\n",
        "print(timeTuple[3])\n",
        "print(timeTuple[0:3])\n",
        "\n",
        "# 튜플 길이\n",
        "len(timeTuple)"
      ]
    },
    {
      "cell_type": "markdown",
      "metadata": {
        "id": "mWsjapeQOOGZ"
      },
      "source": [
        "# 5. Dictionary"
      ]
    },
    {
      "cell_type": "markdown",
      "metadata": {
        "id": "FN5ITz2jOOGa"
      },
      "source": [
        "(Key, Value) 형태 자료 구조로 특정년도의 주식명을  키로 요청하면 주가총액을 value로 불러오는 형태"
      ]
    },
    {
      "cell_type": "code",
      "execution_count": null,
      "metadata": {
        "id": "wlbH_ddOOOGb"
      },
      "outputs": [],
      "source": [
        "dic = {\"name\":\"sec\",\"id\":\"3000000\",\"address\":\"suwon\"}"
      ]
    },
    {
      "cell_type": "code",
      "execution_count": null,
      "metadata": {
        "colab": {
          "base_uri": "https://localhost:8080/"
        },
        "id": "FStM__1UOOGb",
        "outputId": "971a4a39-3327-4f38-8260-97446987bf10"
      },
      "outputs": [
        {
          "output_type": "stream",
          "name": "stdout",
          "text": [
            "{'name': 'sec', 'id': '3000000', 'address': 'suwon'}\n"
          ]
        }
      ],
      "source": [
        "print(dic)"
      ]
    },
    {
      "cell_type": "code",
      "execution_count": null,
      "metadata": {
        "colab": {
          "base_uri": "https://localhost:8080/"
        },
        "id": "TDFCRV1HOOGc",
        "outputId": "0426119f-c697-43e9-b5db-3e8f084bdf94"
      },
      "outputs": [
        {
          "output_type": "execute_result",
          "data": {
            "text/plain": [
              "dict_keys(['name', 'id', 'address'])"
            ]
          },
          "metadata": {},
          "execution_count": 50
        }
      ],
      "source": [
        "dic.keys()"
      ]
    },
    {
      "cell_type": "code",
      "execution_count": null,
      "metadata": {
        "colab": {
          "base_uri": "https://localhost:8080/"
        },
        "id": "UwFmR_iaOOGd",
        "outputId": "7e4298df-7848-40bc-bb89-1e3e292b59b6"
      },
      "outputs": [
        {
          "output_type": "execute_result",
          "data": {
            "text/plain": [
              "dict_values(['sec', '3000000', 'suwon'])"
            ]
          },
          "metadata": {},
          "execution_count": 51
        }
      ],
      "source": [
        "dic.values()"
      ]
    },
    {
      "cell_type": "code",
      "execution_count": null,
      "metadata": {
        "colab": {
          "base_uri": "https://localhost:8080/"
        },
        "id": "5KlbsK_mOOGe",
        "outputId": "f0746205-9751-45d3-fd07-88d17449024f"
      },
      "outputs": [
        {
          "output_type": "stream",
          "name": "stdout",
          "text": [
            "{'name': 'sec', 'id': '300000', 'address': 'suwon'}\n",
            "sec\n",
            "{'name': 'sec2', 'id': '300000', 'address': 'suwon', 'stock': 'yes'}\n",
            "yes\n",
            "{'id': '300000', 'address': 'suwon', 'stock': 'yes'}\n"
          ]
        }
      ],
      "source": [
        "dic = {\"name\":\"sec\", \"id\":\"300000\", \"address\":\"suwon\" }\n",
        "print(dic)\n",
        "print(dic[\"name\"])\n",
        "\n",
        "# dictionary key value 추가/변경\n",
        "dic[\"name\"] = \"sec2\"\n",
        "dic[\"stock\"] = \"yes\"\n",
        "print(dic)\n",
        "print(dic[\"stock\"])\n",
        "\n",
        "# dictionary 아이템 삭제하기\n",
        "dic.pop(\"name\")\n",
        "print(dic)"
      ]
    },
    {
      "cell_type": "markdown",
      "metadata": {
        "id": "RV-rjPyBOOGg"
      },
      "source": [
        "### [실습]\n",
        "dic = {\"name\":\"sec\",\"id\":\"300000\",\"address\":\"suwon\"} 에서\n",
        "id 키 값을 삭제하여 출력하세요\n",
        "{'name': 'sec', 'address': 'suwon’}"
      ]
    },
    {
      "cell_type": "code",
      "execution_count": null,
      "metadata": {
        "id": "QY9f8qvhOOGh"
      },
      "outputs": [],
      "source": [
        "dic = {\"name\":\"sec\",\"id\":\"300000\",\"address\":\"suwon\"}"
      ]
    },
    {
      "cell_type": "code",
      "execution_count": null,
      "metadata": {
        "colab": {
          "base_uri": "https://localhost:8080/"
        },
        "id": "__JTMW1DOOGi",
        "outputId": "63b6b52a-bd1a-4084-be63-e3bd18477c75"
      },
      "outputs": [
        {
          "output_type": "execute_result",
          "data": {
            "text/plain": [
              "dict_keys(['name', 'id', 'address'])"
            ]
          },
          "metadata": {},
          "execution_count": 54
        }
      ],
      "source": [
        "dic.keys()"
      ]
    },
    {
      "cell_type": "code",
      "execution_count": null,
      "metadata": {
        "colab": {
          "base_uri": "https://localhost:8080/",
          "height": 36
        },
        "id": "hBTGPZ1aOOGk",
        "outputId": "4b2aef44-cab9-40a9-b0fe-2856618e603f"
      },
      "outputs": [
        {
          "output_type": "execute_result",
          "data": {
            "text/plain": [
              "'300000'"
            ],
            "application/vnd.google.colaboratory.intrinsic+json": {
              "type": "string"
            }
          },
          "metadata": {},
          "execution_count": 55
        }
      ],
      "source": [
        "dic.pop(\"id\")"
      ]
    },
    {
      "cell_type": "code",
      "execution_count": null,
      "metadata": {
        "colab": {
          "base_uri": "https://localhost:8080/"
        },
        "id": "LaK6l667OOGl",
        "outputId": "40bc2294-e254-40f1-d5c4-818429dff53f"
      },
      "outputs": [
        {
          "output_type": "execute_result",
          "data": {
            "text/plain": [
              "{'name': 'sec', 'address': 'suwon'}"
            ]
          },
          "metadata": {},
          "execution_count": 56
        }
      ],
      "source": [
        "dic"
      ]
    },
    {
      "cell_type": "markdown",
      "metadata": {
        "id": "aiduVNfgOOGn"
      },
      "source": [
        "# 5. Pandas Dataframe"
      ]
    },
    {
      "cell_type": "markdown",
      "metadata": {
        "id": "t-TzeoI2OOGn"
      },
      "source": [
        "행/열 구조의 가장 많이 활용되는 자료구조 형태"
      ]
    },
    {
      "cell_type": "markdown",
      "metadata": {
        "id": "ONUqZ30pOOGo"
      },
      "source": [
        "### 1. 딕셔너리를 활용한 Pandas DataFrame 생성"
      ]
    },
    {
      "cell_type": "code",
      "execution_count": null,
      "metadata": {
        "colab": {
          "base_uri": "https://localhost:8080/"
        },
        "id": "NEch-_XNOOGo",
        "outputId": "a8d3c464-b4f0-443a-8aa0-cfc9e3333756"
      },
      "outputs": [
        {
          "output_type": "stream",
          "name": "stdout",
          "text": [
            "  name  age  stock_age\n",
            "0  A고객   27          2\n",
            "1  B고객   40         10\n",
            "2  C고객   33          5\n",
            "3  D고객   29          1\n"
          ]
        }
      ],
      "source": [
        "# 데이터 프레임 라이브러리 활용\n",
        "import pandas as pd\n",
        "\n",
        "# 딕셔너리를 활용한 데이터프레임 생성\n",
        "data = {'name': ['A고객','B고객','C고객','D고객'],\n",
        "        'age': [27,40,33,29],\n",
        "        'stock_age': [2,10,5,1]}\n",
        "dataFrame = pd.DataFrame(data)\n",
        "\n",
        "# 데이터 프레임 : 스프레드시트 형태의 자료구조\n",
        "print(dataFrame)"
      ]
    },
    {
      "cell_type": "markdown",
      "metadata": {
        "id": "o-Enz0M6OOGp"
      },
      "source": [
        "### 2. 리스트를 활용한 Pandas DataFrame 생성"
      ]
    },
    {
      "cell_type": "code",
      "execution_count": null,
      "metadata": {
        "colab": {
          "base_uri": "https://localhost:8080/",
          "height": 174
        },
        "id": "oynUrCLSOOGq",
        "outputId": "41689afa-edb3-468d-d1a3-90dab19fee4c"
      },
      "outputs": [
        {
          "output_type": "execute_result",
          "data": {
            "text/plain": [
              "       0\n",
              "0     10\n",
              "1    100\n",
              "2   1000\n",
              "3  10000"
            ],
            "text/html": [
              "\n",
              "  <div id=\"df-80b341b4-4a3e-43a2-8847-0b57d51a8a88\" class=\"colab-df-container\">\n",
              "    <div>\n",
              "<style scoped>\n",
              "    .dataframe tbody tr th:only-of-type {\n",
              "        vertical-align: middle;\n",
              "    }\n",
              "\n",
              "    .dataframe tbody tr th {\n",
              "        vertical-align: top;\n",
              "    }\n",
              "\n",
              "    .dataframe thead th {\n",
              "        text-align: right;\n",
              "    }\n",
              "</style>\n",
              "<table border=\"1\" class=\"dataframe\">\n",
              "  <thead>\n",
              "    <tr style=\"text-align: right;\">\n",
              "      <th></th>\n",
              "      <th>0</th>\n",
              "    </tr>\n",
              "  </thead>\n",
              "  <tbody>\n",
              "    <tr>\n",
              "      <th>0</th>\n",
              "      <td>10</td>\n",
              "    </tr>\n",
              "    <tr>\n",
              "      <th>1</th>\n",
              "      <td>100</td>\n",
              "    </tr>\n",
              "    <tr>\n",
              "      <th>2</th>\n",
              "      <td>1000</td>\n",
              "    </tr>\n",
              "    <tr>\n",
              "      <th>3</th>\n",
              "      <td>10000</td>\n",
              "    </tr>\n",
              "  </tbody>\n",
              "</table>\n",
              "</div>\n",
              "    <div class=\"colab-df-buttons\">\n",
              "\n",
              "  <div class=\"colab-df-container\">\n",
              "    <button class=\"colab-df-convert\" onclick=\"convertToInteractive('df-80b341b4-4a3e-43a2-8847-0b57d51a8a88')\"\n",
              "            title=\"Convert this dataframe to an interactive table.\"\n",
              "            style=\"display:none;\">\n",
              "\n",
              "  <svg xmlns=\"http://www.w3.org/2000/svg\" height=\"24px\" viewBox=\"0 -960 960 960\">\n",
              "    <path d=\"M120-120v-720h720v720H120Zm60-500h600v-160H180v160Zm220 220h160v-160H400v160Zm0 220h160v-160H400v160ZM180-400h160v-160H180v160Zm440 0h160v-160H620v160ZM180-180h160v-160H180v160Zm440 0h160v-160H620v160Z\"/>\n",
              "  </svg>\n",
              "    </button>\n",
              "\n",
              "  <style>\n",
              "    .colab-df-container {\n",
              "      display:flex;\n",
              "      gap: 12px;\n",
              "    }\n",
              "\n",
              "    .colab-df-convert {\n",
              "      background-color: #E8F0FE;\n",
              "      border: none;\n",
              "      border-radius: 50%;\n",
              "      cursor: pointer;\n",
              "      display: none;\n",
              "      fill: #1967D2;\n",
              "      height: 32px;\n",
              "      padding: 0 0 0 0;\n",
              "      width: 32px;\n",
              "    }\n",
              "\n",
              "    .colab-df-convert:hover {\n",
              "      background-color: #E2EBFA;\n",
              "      box-shadow: 0px 1px 2px rgba(60, 64, 67, 0.3), 0px 1px 3px 1px rgba(60, 64, 67, 0.15);\n",
              "      fill: #174EA6;\n",
              "    }\n",
              "\n",
              "    .colab-df-buttons div {\n",
              "      margin-bottom: 4px;\n",
              "    }\n",
              "\n",
              "    [theme=dark] .colab-df-convert {\n",
              "      background-color: #3B4455;\n",
              "      fill: #D2E3FC;\n",
              "    }\n",
              "\n",
              "    [theme=dark] .colab-df-convert:hover {\n",
              "      background-color: #434B5C;\n",
              "      box-shadow: 0px 1px 3px 1px rgba(0, 0, 0, 0.15);\n",
              "      filter: drop-shadow(0px 1px 2px rgba(0, 0, 0, 0.3));\n",
              "      fill: #FFFFFF;\n",
              "    }\n",
              "  </style>\n",
              "\n",
              "    <script>\n",
              "      const buttonEl =\n",
              "        document.querySelector('#df-80b341b4-4a3e-43a2-8847-0b57d51a8a88 button.colab-df-convert');\n",
              "      buttonEl.style.display =\n",
              "        google.colab.kernel.accessAllowed ? 'block' : 'none';\n",
              "\n",
              "      async function convertToInteractive(key) {\n",
              "        const element = document.querySelector('#df-80b341b4-4a3e-43a2-8847-0b57d51a8a88');\n",
              "        const dataTable =\n",
              "          await google.colab.kernel.invokeFunction('convertToInteractive',\n",
              "                                                    [key], {});\n",
              "        if (!dataTable) return;\n",
              "\n",
              "        const docLinkHtml = 'Like what you see? Visit the ' +\n",
              "          '<a target=\"_blank\" href=https://colab.research.google.com/notebooks/data_table.ipynb>data table notebook</a>'\n",
              "          + ' to learn more about interactive tables.';\n",
              "        element.innerHTML = '';\n",
              "        dataTable['output_type'] = 'display_data';\n",
              "        await google.colab.output.renderOutput(dataTable, element);\n",
              "        const docLink = document.createElement('div');\n",
              "        docLink.innerHTML = docLinkHtml;\n",
              "        element.appendChild(docLink);\n",
              "      }\n",
              "    </script>\n",
              "  </div>\n",
              "\n",
              "\n",
              "<div id=\"df-e3998b6e-93bb-46c7-89bc-a237701b9425\">\n",
              "  <button class=\"colab-df-quickchart\" onclick=\"quickchart('df-e3998b6e-93bb-46c7-89bc-a237701b9425')\"\n",
              "            title=\"Suggest charts\"\n",
              "            style=\"display:none;\">\n",
              "\n",
              "<svg xmlns=\"http://www.w3.org/2000/svg\" height=\"24px\"viewBox=\"0 0 24 24\"\n",
              "     width=\"24px\">\n",
              "    <g>\n",
              "        <path d=\"M19 3H5c-1.1 0-2 .9-2 2v14c0 1.1.9 2 2 2h14c1.1 0 2-.9 2-2V5c0-1.1-.9-2-2-2zM9 17H7v-7h2v7zm4 0h-2V7h2v10zm4 0h-2v-4h2v4z\"/>\n",
              "    </g>\n",
              "</svg>\n",
              "  </button>\n",
              "\n",
              "<style>\n",
              "  .colab-df-quickchart {\n",
              "      --bg-color: #E8F0FE;\n",
              "      --fill-color: #1967D2;\n",
              "      --hover-bg-color: #E2EBFA;\n",
              "      --hover-fill-color: #174EA6;\n",
              "      --disabled-fill-color: #AAA;\n",
              "      --disabled-bg-color: #DDD;\n",
              "  }\n",
              "\n",
              "  [theme=dark] .colab-df-quickchart {\n",
              "      --bg-color: #3B4455;\n",
              "      --fill-color: #D2E3FC;\n",
              "      --hover-bg-color: #434B5C;\n",
              "      --hover-fill-color: #FFFFFF;\n",
              "      --disabled-bg-color: #3B4455;\n",
              "      --disabled-fill-color: #666;\n",
              "  }\n",
              "\n",
              "  .colab-df-quickchart {\n",
              "    background-color: var(--bg-color);\n",
              "    border: none;\n",
              "    border-radius: 50%;\n",
              "    cursor: pointer;\n",
              "    display: none;\n",
              "    fill: var(--fill-color);\n",
              "    height: 32px;\n",
              "    padding: 0;\n",
              "    width: 32px;\n",
              "  }\n",
              "\n",
              "  .colab-df-quickchart:hover {\n",
              "    background-color: var(--hover-bg-color);\n",
              "    box-shadow: 0 1px 2px rgba(60, 64, 67, 0.3), 0 1px 3px 1px rgba(60, 64, 67, 0.15);\n",
              "    fill: var(--button-hover-fill-color);\n",
              "  }\n",
              "\n",
              "  .colab-df-quickchart-complete:disabled,\n",
              "  .colab-df-quickchart-complete:disabled:hover {\n",
              "    background-color: var(--disabled-bg-color);\n",
              "    fill: var(--disabled-fill-color);\n",
              "    box-shadow: none;\n",
              "  }\n",
              "\n",
              "  .colab-df-spinner {\n",
              "    border: 2px solid var(--fill-color);\n",
              "    border-color: transparent;\n",
              "    border-bottom-color: var(--fill-color);\n",
              "    animation:\n",
              "      spin 1s steps(1) infinite;\n",
              "  }\n",
              "\n",
              "  @keyframes spin {\n",
              "    0% {\n",
              "      border-color: transparent;\n",
              "      border-bottom-color: var(--fill-color);\n",
              "      border-left-color: var(--fill-color);\n",
              "    }\n",
              "    20% {\n",
              "      border-color: transparent;\n",
              "      border-left-color: var(--fill-color);\n",
              "      border-top-color: var(--fill-color);\n",
              "    }\n",
              "    30% {\n",
              "      border-color: transparent;\n",
              "      border-left-color: var(--fill-color);\n",
              "      border-top-color: var(--fill-color);\n",
              "      border-right-color: var(--fill-color);\n",
              "    }\n",
              "    40% {\n",
              "      border-color: transparent;\n",
              "      border-right-color: var(--fill-color);\n",
              "      border-top-color: var(--fill-color);\n",
              "    }\n",
              "    60% {\n",
              "      border-color: transparent;\n",
              "      border-right-color: var(--fill-color);\n",
              "    }\n",
              "    80% {\n",
              "      border-color: transparent;\n",
              "      border-right-color: var(--fill-color);\n",
              "      border-bottom-color: var(--fill-color);\n",
              "    }\n",
              "    90% {\n",
              "      border-color: transparent;\n",
              "      border-bottom-color: var(--fill-color);\n",
              "    }\n",
              "  }\n",
              "</style>\n",
              "\n",
              "  <script>\n",
              "    async function quickchart(key) {\n",
              "      const quickchartButtonEl =\n",
              "        document.querySelector('#' + key + ' button');\n",
              "      quickchartButtonEl.disabled = true;  // To prevent multiple clicks.\n",
              "      quickchartButtonEl.classList.add('colab-df-spinner');\n",
              "      try {\n",
              "        const charts = await google.colab.kernel.invokeFunction(\n",
              "            'suggestCharts', [key], {});\n",
              "      } catch (error) {\n",
              "        console.error('Error during call to suggestCharts:', error);\n",
              "      }\n",
              "      quickchartButtonEl.classList.remove('colab-df-spinner');\n",
              "      quickchartButtonEl.classList.add('colab-df-quickchart-complete');\n",
              "    }\n",
              "    (() => {\n",
              "      let quickchartButtonEl =\n",
              "        document.querySelector('#df-e3998b6e-93bb-46c7-89bc-a237701b9425 button');\n",
              "      quickchartButtonEl.style.display =\n",
              "        google.colab.kernel.accessAllowed ? 'block' : 'none';\n",
              "    })();\n",
              "  </script>\n",
              "</div>\n",
              "\n",
              "  <div id=\"id_3debd2e8-c4d1-4b24-8e76-0c69d9582777\">\n",
              "    <style>\n",
              "      .colab-df-generate {\n",
              "        background-color: #E8F0FE;\n",
              "        border: none;\n",
              "        border-radius: 50%;\n",
              "        cursor: pointer;\n",
              "        display: none;\n",
              "        fill: #1967D2;\n",
              "        height: 32px;\n",
              "        padding: 0 0 0 0;\n",
              "        width: 32px;\n",
              "      }\n",
              "\n",
              "      .colab-df-generate:hover {\n",
              "        background-color: #E2EBFA;\n",
              "        box-shadow: 0px 1px 2px rgba(60, 64, 67, 0.3), 0px 1px 3px 1px rgba(60, 64, 67, 0.15);\n",
              "        fill: #174EA6;\n",
              "      }\n",
              "\n",
              "      [theme=dark] .colab-df-generate {\n",
              "        background-color: #3B4455;\n",
              "        fill: #D2E3FC;\n",
              "      }\n",
              "\n",
              "      [theme=dark] .colab-df-generate:hover {\n",
              "        background-color: #434B5C;\n",
              "        box-shadow: 0px 1px 3px 1px rgba(0, 0, 0, 0.15);\n",
              "        filter: drop-shadow(0px 1px 2px rgba(0, 0, 0, 0.3));\n",
              "        fill: #FFFFFF;\n",
              "      }\n",
              "    </style>\n",
              "    <button class=\"colab-df-generate\" onclick=\"generateWithVariable('testDf')\"\n",
              "            title=\"Generate code using this dataframe.\"\n",
              "            style=\"display:none;\">\n",
              "\n",
              "  <svg xmlns=\"http://www.w3.org/2000/svg\" height=\"24px\"viewBox=\"0 0 24 24\"\n",
              "       width=\"24px\">\n",
              "    <path d=\"M7,19H8.4L18.45,9,17,7.55,7,17.6ZM5,21V16.75L18.45,3.32a2,2,0,0,1,2.83,0l1.4,1.43a1.91,1.91,0,0,1,.58,1.4,1.91,1.91,0,0,1-.58,1.4L9.25,21ZM18.45,9,17,7.55Zm-12,3A5.31,5.31,0,0,0,4.9,8.1,5.31,5.31,0,0,0,1,6.5,5.31,5.31,0,0,0,4.9,4.9,5.31,5.31,0,0,0,6.5,1,5.31,5.31,0,0,0,8.1,4.9,5.31,5.31,0,0,0,12,6.5,5.46,5.46,0,0,0,6.5,12Z\"/>\n",
              "  </svg>\n",
              "    </button>\n",
              "    <script>\n",
              "      (() => {\n",
              "      const buttonEl =\n",
              "        document.querySelector('#id_3debd2e8-c4d1-4b24-8e76-0c69d9582777 button.colab-df-generate');\n",
              "      buttonEl.style.display =\n",
              "        google.colab.kernel.accessAllowed ? 'block' : 'none';\n",
              "\n",
              "      buttonEl.onclick = () => {\n",
              "        google.colab.notebook.generateWithVariable('testDf');\n",
              "      }\n",
              "      })();\n",
              "    </script>\n",
              "  </div>\n",
              "\n",
              "    </div>\n",
              "  </div>\n"
            ],
            "application/vnd.google.colaboratory.intrinsic+json": {
              "type": "dataframe",
              "variable_name": "testDf",
              "summary": "{\n  \"name\": \"testDf\",\n  \"rows\": 4,\n  \"fields\": [\n    {\n      \"column\": 0,\n      \"properties\": {\n        \"dtype\": \"number\",\n        \"std\": 4835,\n        \"min\": 10,\n        \"max\": 10000,\n        \"num_unique_values\": 4,\n        \"samples\": [\n          100,\n          10000,\n          10\n        ],\n        \"semantic_type\": \"\",\n        \"description\": \"\"\n      }\n    }\n  ]\n}"
            }
          },
          "metadata": {},
          "execution_count": 58
        }
      ],
      "source": [
        "import pandas as pd\n",
        "# 리스트 생성\n",
        "test = [10,100,1000,10000]\n",
        "# 데이터프레임 변환\n",
        "testDf = pd.DataFrame(test)\n",
        "testDf"
      ]
    },
    {
      "cell_type": "code",
      "execution_count": null,
      "metadata": {
        "colab": {
          "base_uri": "https://localhost:8080/",
          "height": 174
        },
        "id": "RUX3XLbaOOGr",
        "outputId": "8c6f7162-b262-49c7-bd20-eee181ecd5a5"
      },
      "outputs": [
        {
          "output_type": "execute_result",
          "data": {
            "text/plain": [
              "    test\n",
              "0     10\n",
              "1    100\n",
              "2   1000\n",
              "3  10000"
            ],
            "text/html": [
              "\n",
              "  <div id=\"df-99572b27-eaee-44a0-9d06-5f03b498a544\" class=\"colab-df-container\">\n",
              "    <div>\n",
              "<style scoped>\n",
              "    .dataframe tbody tr th:only-of-type {\n",
              "        vertical-align: middle;\n",
              "    }\n",
              "\n",
              "    .dataframe tbody tr th {\n",
              "        vertical-align: top;\n",
              "    }\n",
              "\n",
              "    .dataframe thead th {\n",
              "        text-align: right;\n",
              "    }\n",
              "</style>\n",
              "<table border=\"1\" class=\"dataframe\">\n",
              "  <thead>\n",
              "    <tr style=\"text-align: right;\">\n",
              "      <th></th>\n",
              "      <th>test</th>\n",
              "    </tr>\n",
              "  </thead>\n",
              "  <tbody>\n",
              "    <tr>\n",
              "      <th>0</th>\n",
              "      <td>10</td>\n",
              "    </tr>\n",
              "    <tr>\n",
              "      <th>1</th>\n",
              "      <td>100</td>\n",
              "    </tr>\n",
              "    <tr>\n",
              "      <th>2</th>\n",
              "      <td>1000</td>\n",
              "    </tr>\n",
              "    <tr>\n",
              "      <th>3</th>\n",
              "      <td>10000</td>\n",
              "    </tr>\n",
              "  </tbody>\n",
              "</table>\n",
              "</div>\n",
              "    <div class=\"colab-df-buttons\">\n",
              "\n",
              "  <div class=\"colab-df-container\">\n",
              "    <button class=\"colab-df-convert\" onclick=\"convertToInteractive('df-99572b27-eaee-44a0-9d06-5f03b498a544')\"\n",
              "            title=\"Convert this dataframe to an interactive table.\"\n",
              "            style=\"display:none;\">\n",
              "\n",
              "  <svg xmlns=\"http://www.w3.org/2000/svg\" height=\"24px\" viewBox=\"0 -960 960 960\">\n",
              "    <path d=\"M120-120v-720h720v720H120Zm60-500h600v-160H180v160Zm220 220h160v-160H400v160Zm0 220h160v-160H400v160ZM180-400h160v-160H180v160Zm440 0h160v-160H620v160ZM180-180h160v-160H180v160Zm440 0h160v-160H620v160Z\"/>\n",
              "  </svg>\n",
              "    </button>\n",
              "\n",
              "  <style>\n",
              "    .colab-df-container {\n",
              "      display:flex;\n",
              "      gap: 12px;\n",
              "    }\n",
              "\n",
              "    .colab-df-convert {\n",
              "      background-color: #E8F0FE;\n",
              "      border: none;\n",
              "      border-radius: 50%;\n",
              "      cursor: pointer;\n",
              "      display: none;\n",
              "      fill: #1967D2;\n",
              "      height: 32px;\n",
              "      padding: 0 0 0 0;\n",
              "      width: 32px;\n",
              "    }\n",
              "\n",
              "    .colab-df-convert:hover {\n",
              "      background-color: #E2EBFA;\n",
              "      box-shadow: 0px 1px 2px rgba(60, 64, 67, 0.3), 0px 1px 3px 1px rgba(60, 64, 67, 0.15);\n",
              "      fill: #174EA6;\n",
              "    }\n",
              "\n",
              "    .colab-df-buttons div {\n",
              "      margin-bottom: 4px;\n",
              "    }\n",
              "\n",
              "    [theme=dark] .colab-df-convert {\n",
              "      background-color: #3B4455;\n",
              "      fill: #D2E3FC;\n",
              "    }\n",
              "\n",
              "    [theme=dark] .colab-df-convert:hover {\n",
              "      background-color: #434B5C;\n",
              "      box-shadow: 0px 1px 3px 1px rgba(0, 0, 0, 0.15);\n",
              "      filter: drop-shadow(0px 1px 2px rgba(0, 0, 0, 0.3));\n",
              "      fill: #FFFFFF;\n",
              "    }\n",
              "  </style>\n",
              "\n",
              "    <script>\n",
              "      const buttonEl =\n",
              "        document.querySelector('#df-99572b27-eaee-44a0-9d06-5f03b498a544 button.colab-df-convert');\n",
              "      buttonEl.style.display =\n",
              "        google.colab.kernel.accessAllowed ? 'block' : 'none';\n",
              "\n",
              "      async function convertToInteractive(key) {\n",
              "        const element = document.querySelector('#df-99572b27-eaee-44a0-9d06-5f03b498a544');\n",
              "        const dataTable =\n",
              "          await google.colab.kernel.invokeFunction('convertToInteractive',\n",
              "                                                    [key], {});\n",
              "        if (!dataTable) return;\n",
              "\n",
              "        const docLinkHtml = 'Like what you see? Visit the ' +\n",
              "          '<a target=\"_blank\" href=https://colab.research.google.com/notebooks/data_table.ipynb>data table notebook</a>'\n",
              "          + ' to learn more about interactive tables.';\n",
              "        element.innerHTML = '';\n",
              "        dataTable['output_type'] = 'display_data';\n",
              "        await google.colab.output.renderOutput(dataTable, element);\n",
              "        const docLink = document.createElement('div');\n",
              "        docLink.innerHTML = docLinkHtml;\n",
              "        element.appendChild(docLink);\n",
              "      }\n",
              "    </script>\n",
              "  </div>\n",
              "\n",
              "\n",
              "<div id=\"df-4883ddc0-c27a-44c7-9777-ad190e0ab201\">\n",
              "  <button class=\"colab-df-quickchart\" onclick=\"quickchart('df-4883ddc0-c27a-44c7-9777-ad190e0ab201')\"\n",
              "            title=\"Suggest charts\"\n",
              "            style=\"display:none;\">\n",
              "\n",
              "<svg xmlns=\"http://www.w3.org/2000/svg\" height=\"24px\"viewBox=\"0 0 24 24\"\n",
              "     width=\"24px\">\n",
              "    <g>\n",
              "        <path d=\"M19 3H5c-1.1 0-2 .9-2 2v14c0 1.1.9 2 2 2h14c1.1 0 2-.9 2-2V5c0-1.1-.9-2-2-2zM9 17H7v-7h2v7zm4 0h-2V7h2v10zm4 0h-2v-4h2v4z\"/>\n",
              "    </g>\n",
              "</svg>\n",
              "  </button>\n",
              "\n",
              "<style>\n",
              "  .colab-df-quickchart {\n",
              "      --bg-color: #E8F0FE;\n",
              "      --fill-color: #1967D2;\n",
              "      --hover-bg-color: #E2EBFA;\n",
              "      --hover-fill-color: #174EA6;\n",
              "      --disabled-fill-color: #AAA;\n",
              "      --disabled-bg-color: #DDD;\n",
              "  }\n",
              "\n",
              "  [theme=dark] .colab-df-quickchart {\n",
              "      --bg-color: #3B4455;\n",
              "      --fill-color: #D2E3FC;\n",
              "      --hover-bg-color: #434B5C;\n",
              "      --hover-fill-color: #FFFFFF;\n",
              "      --disabled-bg-color: #3B4455;\n",
              "      --disabled-fill-color: #666;\n",
              "  }\n",
              "\n",
              "  .colab-df-quickchart {\n",
              "    background-color: var(--bg-color);\n",
              "    border: none;\n",
              "    border-radius: 50%;\n",
              "    cursor: pointer;\n",
              "    display: none;\n",
              "    fill: var(--fill-color);\n",
              "    height: 32px;\n",
              "    padding: 0;\n",
              "    width: 32px;\n",
              "  }\n",
              "\n",
              "  .colab-df-quickchart:hover {\n",
              "    background-color: var(--hover-bg-color);\n",
              "    box-shadow: 0 1px 2px rgba(60, 64, 67, 0.3), 0 1px 3px 1px rgba(60, 64, 67, 0.15);\n",
              "    fill: var(--button-hover-fill-color);\n",
              "  }\n",
              "\n",
              "  .colab-df-quickchart-complete:disabled,\n",
              "  .colab-df-quickchart-complete:disabled:hover {\n",
              "    background-color: var(--disabled-bg-color);\n",
              "    fill: var(--disabled-fill-color);\n",
              "    box-shadow: none;\n",
              "  }\n",
              "\n",
              "  .colab-df-spinner {\n",
              "    border: 2px solid var(--fill-color);\n",
              "    border-color: transparent;\n",
              "    border-bottom-color: var(--fill-color);\n",
              "    animation:\n",
              "      spin 1s steps(1) infinite;\n",
              "  }\n",
              "\n",
              "  @keyframes spin {\n",
              "    0% {\n",
              "      border-color: transparent;\n",
              "      border-bottom-color: var(--fill-color);\n",
              "      border-left-color: var(--fill-color);\n",
              "    }\n",
              "    20% {\n",
              "      border-color: transparent;\n",
              "      border-left-color: var(--fill-color);\n",
              "      border-top-color: var(--fill-color);\n",
              "    }\n",
              "    30% {\n",
              "      border-color: transparent;\n",
              "      border-left-color: var(--fill-color);\n",
              "      border-top-color: var(--fill-color);\n",
              "      border-right-color: var(--fill-color);\n",
              "    }\n",
              "    40% {\n",
              "      border-color: transparent;\n",
              "      border-right-color: var(--fill-color);\n",
              "      border-top-color: var(--fill-color);\n",
              "    }\n",
              "    60% {\n",
              "      border-color: transparent;\n",
              "      border-right-color: var(--fill-color);\n",
              "    }\n",
              "    80% {\n",
              "      border-color: transparent;\n",
              "      border-right-color: var(--fill-color);\n",
              "      border-bottom-color: var(--fill-color);\n",
              "    }\n",
              "    90% {\n",
              "      border-color: transparent;\n",
              "      border-bottom-color: var(--fill-color);\n",
              "    }\n",
              "  }\n",
              "</style>\n",
              "\n",
              "  <script>\n",
              "    async function quickchart(key) {\n",
              "      const quickchartButtonEl =\n",
              "        document.querySelector('#' + key + ' button');\n",
              "      quickchartButtonEl.disabled = true;  // To prevent multiple clicks.\n",
              "      quickchartButtonEl.classList.add('colab-df-spinner');\n",
              "      try {\n",
              "        const charts = await google.colab.kernel.invokeFunction(\n",
              "            'suggestCharts', [key], {});\n",
              "      } catch (error) {\n",
              "        console.error('Error during call to suggestCharts:', error);\n",
              "      }\n",
              "      quickchartButtonEl.classList.remove('colab-df-spinner');\n",
              "      quickchartButtonEl.classList.add('colab-df-quickchart-complete');\n",
              "    }\n",
              "    (() => {\n",
              "      let quickchartButtonEl =\n",
              "        document.querySelector('#df-4883ddc0-c27a-44c7-9777-ad190e0ab201 button');\n",
              "      quickchartButtonEl.style.display =\n",
              "        google.colab.kernel.accessAllowed ? 'block' : 'none';\n",
              "    })();\n",
              "  </script>\n",
              "</div>\n",
              "\n",
              "  <div id=\"id_dcf86043-6f3f-40de-8b12-d738c6abfa3e\">\n",
              "    <style>\n",
              "      .colab-df-generate {\n",
              "        background-color: #E8F0FE;\n",
              "        border: none;\n",
              "        border-radius: 50%;\n",
              "        cursor: pointer;\n",
              "        display: none;\n",
              "        fill: #1967D2;\n",
              "        height: 32px;\n",
              "        padding: 0 0 0 0;\n",
              "        width: 32px;\n",
              "      }\n",
              "\n",
              "      .colab-df-generate:hover {\n",
              "        background-color: #E2EBFA;\n",
              "        box-shadow: 0px 1px 2px rgba(60, 64, 67, 0.3), 0px 1px 3px 1px rgba(60, 64, 67, 0.15);\n",
              "        fill: #174EA6;\n",
              "      }\n",
              "\n",
              "      [theme=dark] .colab-df-generate {\n",
              "        background-color: #3B4455;\n",
              "        fill: #D2E3FC;\n",
              "      }\n",
              "\n",
              "      [theme=dark] .colab-df-generate:hover {\n",
              "        background-color: #434B5C;\n",
              "        box-shadow: 0px 1px 3px 1px rgba(0, 0, 0, 0.15);\n",
              "        filter: drop-shadow(0px 1px 2px rgba(0, 0, 0, 0.3));\n",
              "        fill: #FFFFFF;\n",
              "      }\n",
              "    </style>\n",
              "    <button class=\"colab-df-generate\" onclick=\"generateWithVariable('testDf')\"\n",
              "            title=\"Generate code using this dataframe.\"\n",
              "            style=\"display:none;\">\n",
              "\n",
              "  <svg xmlns=\"http://www.w3.org/2000/svg\" height=\"24px\"viewBox=\"0 0 24 24\"\n",
              "       width=\"24px\">\n",
              "    <path d=\"M7,19H8.4L18.45,9,17,7.55,7,17.6ZM5,21V16.75L18.45,3.32a2,2,0,0,1,2.83,0l1.4,1.43a1.91,1.91,0,0,1,.58,1.4,1.91,1.91,0,0,1-.58,1.4L9.25,21ZM18.45,9,17,7.55Zm-12,3A5.31,5.31,0,0,0,4.9,8.1,5.31,5.31,0,0,0,1,6.5,5.31,5.31,0,0,0,4.9,4.9,5.31,5.31,0,0,0,6.5,1,5.31,5.31,0,0,0,8.1,4.9,5.31,5.31,0,0,0,12,6.5,5.46,5.46,0,0,0,6.5,12Z\"/>\n",
              "  </svg>\n",
              "    </button>\n",
              "    <script>\n",
              "      (() => {\n",
              "      const buttonEl =\n",
              "        document.querySelector('#id_dcf86043-6f3f-40de-8b12-d738c6abfa3e button.colab-df-generate');\n",
              "      buttonEl.style.display =\n",
              "        google.colab.kernel.accessAllowed ? 'block' : 'none';\n",
              "\n",
              "      buttonEl.onclick = () => {\n",
              "        google.colab.notebook.generateWithVariable('testDf');\n",
              "      }\n",
              "      })();\n",
              "    </script>\n",
              "  </div>\n",
              "\n",
              "    </div>\n",
              "  </div>\n"
            ],
            "application/vnd.google.colaboratory.intrinsic+json": {
              "type": "dataframe",
              "variable_name": "testDf",
              "summary": "{\n  \"name\": \"testDf\",\n  \"rows\": 4,\n  \"fields\": [\n    {\n      \"column\": \"test\",\n      \"properties\": {\n        \"dtype\": \"number\",\n        \"std\": 4835,\n        \"min\": 10,\n        \"max\": 10000,\n        \"num_unique_values\": 4,\n        \"samples\": [\n          100,\n          10000,\n          10\n        ],\n        \"semantic_type\": \"\",\n        \"description\": \"\"\n      }\n    }\n  ]\n}"
            }
          },
          "metadata": {},
          "execution_count": 59
        }
      ],
      "source": [
        "testDf.columns=[\"test\"]\n",
        "testDf"
      ]
    },
    {
      "cell_type": "code",
      "execution_count": null,
      "metadata": {
        "id": "_A-K6jTUOOGr"
      },
      "outputs": [],
      "source": [
        "['17.02.26', '17.02.25', '17.02.24', '17.02.23']"
      ]
    },
    {
      "cell_type": "code",
      "execution_count": null,
      "metadata": {
        "id": "fhE0nTq_OOGs"
      },
      "outputs": [],
      "source": [
        "date_df = pd.DataFrame(date, columns=['date2'])\n",
        "date_df2 = pd.DataFrame(date2, columns=['date23'])"
      ]
    },
    {
      "cell_type": "code",
      "execution_count": null,
      "metadata": {
        "colab": {
          "base_uri": "https://localhost:8080/",
          "height": 206
        },
        "id": "IudzpKpROOGt",
        "outputId": "a9400612-6e29-42fc-c17b-1910bb452a47"
      },
      "outputs": [
        {
          "output_type": "execute_result",
          "data": {
            "text/plain": [
              "      date2    date23\n",
              "0  16.02.29  17.02.29\n",
              "1  16.02.26  17.02.26\n",
              "2  16.02.25  17.02.25\n",
              "3  16.02.24  17.02.24\n",
              "4  16.02.23  17.02.23"
            ],
            "text/html": [
              "\n",
              "  <div id=\"df-5d72f27e-9204-4773-bca9-1611646125f5\" class=\"colab-df-container\">\n",
              "    <div>\n",
              "<style scoped>\n",
              "    .dataframe tbody tr th:only-of-type {\n",
              "        vertical-align: middle;\n",
              "    }\n",
              "\n",
              "    .dataframe tbody tr th {\n",
              "        vertical-align: top;\n",
              "    }\n",
              "\n",
              "    .dataframe thead th {\n",
              "        text-align: right;\n",
              "    }\n",
              "</style>\n",
              "<table border=\"1\" class=\"dataframe\">\n",
              "  <thead>\n",
              "    <tr style=\"text-align: right;\">\n",
              "      <th></th>\n",
              "      <th>date2</th>\n",
              "      <th>date23</th>\n",
              "    </tr>\n",
              "  </thead>\n",
              "  <tbody>\n",
              "    <tr>\n",
              "      <th>0</th>\n",
              "      <td>16.02.29</td>\n",
              "      <td>17.02.29</td>\n",
              "    </tr>\n",
              "    <tr>\n",
              "      <th>1</th>\n",
              "      <td>16.02.26</td>\n",
              "      <td>17.02.26</td>\n",
              "    </tr>\n",
              "    <tr>\n",
              "      <th>2</th>\n",
              "      <td>16.02.25</td>\n",
              "      <td>17.02.25</td>\n",
              "    </tr>\n",
              "    <tr>\n",
              "      <th>3</th>\n",
              "      <td>16.02.24</td>\n",
              "      <td>17.02.24</td>\n",
              "    </tr>\n",
              "    <tr>\n",
              "      <th>4</th>\n",
              "      <td>16.02.23</td>\n",
              "      <td>17.02.23</td>\n",
              "    </tr>\n",
              "  </tbody>\n",
              "</table>\n",
              "</div>\n",
              "    <div class=\"colab-df-buttons\">\n",
              "\n",
              "  <div class=\"colab-df-container\">\n",
              "    <button class=\"colab-df-convert\" onclick=\"convertToInteractive('df-5d72f27e-9204-4773-bca9-1611646125f5')\"\n",
              "            title=\"Convert this dataframe to an interactive table.\"\n",
              "            style=\"display:none;\">\n",
              "\n",
              "  <svg xmlns=\"http://www.w3.org/2000/svg\" height=\"24px\" viewBox=\"0 -960 960 960\">\n",
              "    <path d=\"M120-120v-720h720v720H120Zm60-500h600v-160H180v160Zm220 220h160v-160H400v160Zm0 220h160v-160H400v160ZM180-400h160v-160H180v160Zm440 0h160v-160H620v160ZM180-180h160v-160H180v160Zm440 0h160v-160H620v160Z\"/>\n",
              "  </svg>\n",
              "    </button>\n",
              "\n",
              "  <style>\n",
              "    .colab-df-container {\n",
              "      display:flex;\n",
              "      gap: 12px;\n",
              "    }\n",
              "\n",
              "    .colab-df-convert {\n",
              "      background-color: #E8F0FE;\n",
              "      border: none;\n",
              "      border-radius: 50%;\n",
              "      cursor: pointer;\n",
              "      display: none;\n",
              "      fill: #1967D2;\n",
              "      height: 32px;\n",
              "      padding: 0 0 0 0;\n",
              "      width: 32px;\n",
              "    }\n",
              "\n",
              "    .colab-df-convert:hover {\n",
              "      background-color: #E2EBFA;\n",
              "      box-shadow: 0px 1px 2px rgba(60, 64, 67, 0.3), 0px 1px 3px 1px rgba(60, 64, 67, 0.15);\n",
              "      fill: #174EA6;\n",
              "    }\n",
              "\n",
              "    .colab-df-buttons div {\n",
              "      margin-bottom: 4px;\n",
              "    }\n",
              "\n",
              "    [theme=dark] .colab-df-convert {\n",
              "      background-color: #3B4455;\n",
              "      fill: #D2E3FC;\n",
              "    }\n",
              "\n",
              "    [theme=dark] .colab-df-convert:hover {\n",
              "      background-color: #434B5C;\n",
              "      box-shadow: 0px 1px 3px 1px rgba(0, 0, 0, 0.15);\n",
              "      filter: drop-shadow(0px 1px 2px rgba(0, 0, 0, 0.3));\n",
              "      fill: #FFFFFF;\n",
              "    }\n",
              "  </style>\n",
              "\n",
              "    <script>\n",
              "      const buttonEl =\n",
              "        document.querySelector('#df-5d72f27e-9204-4773-bca9-1611646125f5 button.colab-df-convert');\n",
              "      buttonEl.style.display =\n",
              "        google.colab.kernel.accessAllowed ? 'block' : 'none';\n",
              "\n",
              "      async function convertToInteractive(key) {\n",
              "        const element = document.querySelector('#df-5d72f27e-9204-4773-bca9-1611646125f5');\n",
              "        const dataTable =\n",
              "          await google.colab.kernel.invokeFunction('convertToInteractive',\n",
              "                                                    [key], {});\n",
              "        if (!dataTable) return;\n",
              "\n",
              "        const docLinkHtml = 'Like what you see? Visit the ' +\n",
              "          '<a target=\"_blank\" href=https://colab.research.google.com/notebooks/data_table.ipynb>data table notebook</a>'\n",
              "          + ' to learn more about interactive tables.';\n",
              "        element.innerHTML = '';\n",
              "        dataTable['output_type'] = 'display_data';\n",
              "        await google.colab.output.renderOutput(dataTable, element);\n",
              "        const docLink = document.createElement('div');\n",
              "        docLink.innerHTML = docLinkHtml;\n",
              "        element.appendChild(docLink);\n",
              "      }\n",
              "    </script>\n",
              "  </div>\n",
              "\n",
              "\n",
              "<div id=\"df-a16493f0-c9a7-4201-b6b8-1f44d163f7cd\">\n",
              "  <button class=\"colab-df-quickchart\" onclick=\"quickchart('df-a16493f0-c9a7-4201-b6b8-1f44d163f7cd')\"\n",
              "            title=\"Suggest charts\"\n",
              "            style=\"display:none;\">\n",
              "\n",
              "<svg xmlns=\"http://www.w3.org/2000/svg\" height=\"24px\"viewBox=\"0 0 24 24\"\n",
              "     width=\"24px\">\n",
              "    <g>\n",
              "        <path d=\"M19 3H5c-1.1 0-2 .9-2 2v14c0 1.1.9 2 2 2h14c1.1 0 2-.9 2-2V5c0-1.1-.9-2-2-2zM9 17H7v-7h2v7zm4 0h-2V7h2v10zm4 0h-2v-4h2v4z\"/>\n",
              "    </g>\n",
              "</svg>\n",
              "  </button>\n",
              "\n",
              "<style>\n",
              "  .colab-df-quickchart {\n",
              "      --bg-color: #E8F0FE;\n",
              "      --fill-color: #1967D2;\n",
              "      --hover-bg-color: #E2EBFA;\n",
              "      --hover-fill-color: #174EA6;\n",
              "      --disabled-fill-color: #AAA;\n",
              "      --disabled-bg-color: #DDD;\n",
              "  }\n",
              "\n",
              "  [theme=dark] .colab-df-quickchart {\n",
              "      --bg-color: #3B4455;\n",
              "      --fill-color: #D2E3FC;\n",
              "      --hover-bg-color: #434B5C;\n",
              "      --hover-fill-color: #FFFFFF;\n",
              "      --disabled-bg-color: #3B4455;\n",
              "      --disabled-fill-color: #666;\n",
              "  }\n",
              "\n",
              "  .colab-df-quickchart {\n",
              "    background-color: var(--bg-color);\n",
              "    border: none;\n",
              "    border-radius: 50%;\n",
              "    cursor: pointer;\n",
              "    display: none;\n",
              "    fill: var(--fill-color);\n",
              "    height: 32px;\n",
              "    padding: 0;\n",
              "    width: 32px;\n",
              "  }\n",
              "\n",
              "  .colab-df-quickchart:hover {\n",
              "    background-color: var(--hover-bg-color);\n",
              "    box-shadow: 0 1px 2px rgba(60, 64, 67, 0.3), 0 1px 3px 1px rgba(60, 64, 67, 0.15);\n",
              "    fill: var(--button-hover-fill-color);\n",
              "  }\n",
              "\n",
              "  .colab-df-quickchart-complete:disabled,\n",
              "  .colab-df-quickchart-complete:disabled:hover {\n",
              "    background-color: var(--disabled-bg-color);\n",
              "    fill: var(--disabled-fill-color);\n",
              "    box-shadow: none;\n",
              "  }\n",
              "\n",
              "  .colab-df-spinner {\n",
              "    border: 2px solid var(--fill-color);\n",
              "    border-color: transparent;\n",
              "    border-bottom-color: var(--fill-color);\n",
              "    animation:\n",
              "      spin 1s steps(1) infinite;\n",
              "  }\n",
              "\n",
              "  @keyframes spin {\n",
              "    0% {\n",
              "      border-color: transparent;\n",
              "      border-bottom-color: var(--fill-color);\n",
              "      border-left-color: var(--fill-color);\n",
              "    }\n",
              "    20% {\n",
              "      border-color: transparent;\n",
              "      border-left-color: var(--fill-color);\n",
              "      border-top-color: var(--fill-color);\n",
              "    }\n",
              "    30% {\n",
              "      border-color: transparent;\n",
              "      border-left-color: var(--fill-color);\n",
              "      border-top-color: var(--fill-color);\n",
              "      border-right-color: var(--fill-color);\n",
              "    }\n",
              "    40% {\n",
              "      border-color: transparent;\n",
              "      border-right-color: var(--fill-color);\n",
              "      border-top-color: var(--fill-color);\n",
              "    }\n",
              "    60% {\n",
              "      border-color: transparent;\n",
              "      border-right-color: var(--fill-color);\n",
              "    }\n",
              "    80% {\n",
              "      border-color: transparent;\n",
              "      border-right-color: var(--fill-color);\n",
              "      border-bottom-color: var(--fill-color);\n",
              "    }\n",
              "    90% {\n",
              "      border-color: transparent;\n",
              "      border-bottom-color: var(--fill-color);\n",
              "    }\n",
              "  }\n",
              "</style>\n",
              "\n",
              "  <script>\n",
              "    async function quickchart(key) {\n",
              "      const quickchartButtonEl =\n",
              "        document.querySelector('#' + key + ' button');\n",
              "      quickchartButtonEl.disabled = true;  // To prevent multiple clicks.\n",
              "      quickchartButtonEl.classList.add('colab-df-spinner');\n",
              "      try {\n",
              "        const charts = await google.colab.kernel.invokeFunction(\n",
              "            'suggestCharts', [key], {});\n",
              "      } catch (error) {\n",
              "        console.error('Error during call to suggestCharts:', error);\n",
              "      }\n",
              "      quickchartButtonEl.classList.remove('colab-df-spinner');\n",
              "      quickchartButtonEl.classList.add('colab-df-quickchart-complete');\n",
              "    }\n",
              "    (() => {\n",
              "      let quickchartButtonEl =\n",
              "        document.querySelector('#df-a16493f0-c9a7-4201-b6b8-1f44d163f7cd button');\n",
              "      quickchartButtonEl.style.display =\n",
              "        google.colab.kernel.accessAllowed ? 'block' : 'none';\n",
              "    })();\n",
              "  </script>\n",
              "</div>\n",
              "\n",
              "  <div id=\"id_98ce3d5c-1d14-4ad4-bb79-9dce711dafb0\">\n",
              "    <style>\n",
              "      .colab-df-generate {\n",
              "        background-color: #E8F0FE;\n",
              "        border: none;\n",
              "        border-radius: 50%;\n",
              "        cursor: pointer;\n",
              "        display: none;\n",
              "        fill: #1967D2;\n",
              "        height: 32px;\n",
              "        padding: 0 0 0 0;\n",
              "        width: 32px;\n",
              "      }\n",
              "\n",
              "      .colab-df-generate:hover {\n",
              "        background-color: #E2EBFA;\n",
              "        box-shadow: 0px 1px 2px rgba(60, 64, 67, 0.3), 0px 1px 3px 1px rgba(60, 64, 67, 0.15);\n",
              "        fill: #174EA6;\n",
              "      }\n",
              "\n",
              "      [theme=dark] .colab-df-generate {\n",
              "        background-color: #3B4455;\n",
              "        fill: #D2E3FC;\n",
              "      }\n",
              "\n",
              "      [theme=dark] .colab-df-generate:hover {\n",
              "        background-color: #434B5C;\n",
              "        box-shadow: 0px 1px 3px 1px rgba(0, 0, 0, 0.15);\n",
              "        filter: drop-shadow(0px 1px 2px rgba(0, 0, 0, 0.3));\n",
              "        fill: #FFFFFF;\n",
              "      }\n",
              "    </style>\n",
              "    <button class=\"colab-df-generate\" onclick=\"generateWithVariable('final')\"\n",
              "            title=\"Generate code using this dataframe.\"\n",
              "            style=\"display:none;\">\n",
              "\n",
              "  <svg xmlns=\"http://www.w3.org/2000/svg\" height=\"24px\"viewBox=\"0 0 24 24\"\n",
              "       width=\"24px\">\n",
              "    <path d=\"M7,19H8.4L18.45,9,17,7.55,7,17.6ZM5,21V16.75L18.45,3.32a2,2,0,0,1,2.83,0l1.4,1.43a1.91,1.91,0,0,1,.58,1.4,1.91,1.91,0,0,1-.58,1.4L9.25,21ZM18.45,9,17,7.55Zm-12,3A5.31,5.31,0,0,0,4.9,8.1,5.31,5.31,0,0,0,1,6.5,5.31,5.31,0,0,0,4.9,4.9,5.31,5.31,0,0,0,6.5,1,5.31,5.31,0,0,0,8.1,4.9,5.31,5.31,0,0,0,12,6.5,5.46,5.46,0,0,0,6.5,12Z\"/>\n",
              "  </svg>\n",
              "    </button>\n",
              "    <script>\n",
              "      (() => {\n",
              "      const buttonEl =\n",
              "        document.querySelector('#id_98ce3d5c-1d14-4ad4-bb79-9dce711dafb0 button.colab-df-generate');\n",
              "      buttonEl.style.display =\n",
              "        google.colab.kernel.accessAllowed ? 'block' : 'none';\n",
              "\n",
              "      buttonEl.onclick = () => {\n",
              "        google.colab.notebook.generateWithVariable('final');\n",
              "      }\n",
              "      })();\n",
              "    </script>\n",
              "  </div>\n",
              "\n",
              "    </div>\n",
              "  </div>\n"
            ],
            "application/vnd.google.colaboratory.intrinsic+json": {
              "type": "dataframe",
              "variable_name": "final",
              "summary": "{\n  \"name\": \"final\",\n  \"rows\": 5,\n  \"fields\": [\n    {\n      \"column\": \"date2\",\n      \"properties\": {\n        \"dtype\": \"object\",\n        \"num_unique_values\": 5,\n        \"samples\": [\n          \"16.02.26\",\n          \"16.02.23\",\n          \"16.02.25\"\n        ],\n        \"semantic_type\": \"\",\n        \"description\": \"\"\n      }\n    },\n    {\n      \"column\": \"date23\",\n      \"properties\": {\n        \"dtype\": \"object\",\n        \"num_unique_values\": 5,\n        \"samples\": [\n          \"17.02.26\",\n          \"17.02.23\",\n          \"17.02.25\"\n        ],\n        \"semantic_type\": \"\",\n        \"description\": \"\"\n      }\n    }\n  ]\n}"
            }
          },
          "metadata": {},
          "execution_count": 62
        }
      ],
      "source": [
        "final = pd.concat([date_df,date_df2], axis = 1)\n",
        "final"
      ]
    },
    {
      "cell_type": "markdown",
      "metadata": {
        "id": "pMjD9w1VOOGt"
      },
      "source": [
        "### [실습]\n",
        "자신만의 데이터프레임을 생성해보세요"
      ]
    },
    {
      "cell_type": "code",
      "source": [],
      "metadata": {
        "id": "QF01VifSOjAi"
      },
      "execution_count": null,
      "outputs": []
    }
  ],
  "metadata": {
    "kernelspec": {
      "display_name": "Python 3",
      "language": "python",
      "name": "python3"
    },
    "language_info": {
      "codemirror_mode": {
        "name": "ipython",
        "version": 3
      },
      "file_extension": ".py",
      "mimetype": "text/x-python",
      "name": "python",
      "nbconvert_exporter": "python",
      "pygments_lexer": "ipython3",
      "version": "3.7.6"
    },
    "colab": {
      "provenance": [],
      "include_colab_link": true
    }
  },
  "nbformat": 4,
  "nbformat_minor": 0
}